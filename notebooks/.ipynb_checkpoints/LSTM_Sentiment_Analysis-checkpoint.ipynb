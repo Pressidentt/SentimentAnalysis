{
 "cells": [
  {
   "cell_type": "markdown",
   "metadata": {
    "id": "CigPBUpFijxy"
   },
   "source": [
    "# LSTM - based sentiment analysis"
   ]
  },
  {
   "cell_type": "markdown",
   "metadata": {
    "id": "KZI8tBg6fjyX"
   },
   "source": [
    "Importing necessary packages"
   ]
  },
  {
   "cell_type": "code",
   "execution_count": 1,
   "metadata": {
    "id": "fZzmhhgLeYai"
   },
   "outputs": [],
   "source": [
    "import matplotlib.pyplot as plt\n",
    "import numpy as np\n",
    "import pandas as pd"
   ]
  },
  {
   "cell_type": "code",
   "execution_count": 2,
   "metadata": {
    "id": "genkXInYGf_y"
   },
   "outputs": [],
   "source": [
    "from keras import backend as K\n",
    "from keras.layers import Input, Embedding, Multiply, Permute, Lambda\n",
    "from keras.layers import LSTM, Dense, Bidirectional, Dropout, BatchNormalization\n",
    "from keras.models import Model, Sequential\n",
    "from keras.optimizers import Adam\n",
    "from keras.preprocessing.text import Tokenizer\n",
    "from tensorflow.keras.preprocessing.sequence import pad_sequences"
   ]
  },
  {
   "cell_type": "code",
   "execution_count": 3,
   "metadata": {
    "id": "tfJ0QZhdfjCH"
   },
   "outputs": [],
   "source": [
    "from sklearn.model_selection import train_test_split"
   ]
  },
  {
   "cell_type": "markdown",
   "metadata": {
    "id": "wkHb_nOtiW_I"
   },
   "source": [
    "## 1. Preparing the data"
   ]
  },
  {
   "cell_type": "markdown",
   "metadata": {
    "id": "ANnkBcrSgwSG"
   },
   "source": [
    "### 1.1 Extracting the data"
   ]
  },
  {
   "cell_type": "markdown",
   "metadata": {
    "id": "4QdBtjCxiAKZ"
   },
   "source": [
    "Loading the dataset from the .csv file"
   ]
  },
  {
   "cell_type": "code",
   "execution_count": 81,
   "metadata": {
    "colab": {
     "base_uri": "https://localhost:8080/",
     "height": 206
    },
    "id": "qoLPesfeec34",
    "outputId": "6afd8b0a-cf33-4b2c-c00e-56b7f2ab7034"
   },
   "outputs": [
    {
     "data": {
      "text/html": [
       "<div>\n",
       "<style scoped>\n",
       "    .dataframe tbody tr th:only-of-type {\n",
       "        vertical-align: middle;\n",
       "    }\n",
       "\n",
       "    .dataframe tbody tr th {\n",
       "        vertical-align: top;\n",
       "    }\n",
       "\n",
       "    .dataframe thead th {\n",
       "        text-align: right;\n",
       "    }\n",
       "</style>\n",
       "<table border=\"1\" class=\"dataframe\">\n",
       "  <thead>\n",
       "    <tr style=\"text-align: right;\">\n",
       "      <th></th>\n",
       "      <th>text</th>\n",
       "      <th>emotion</th>\n",
       "    </tr>\n",
       "  </thead>\n",
       "  <tbody>\n",
       "    <tr>\n",
       "      <th>0</th>\n",
       "      <td>i can't deal with your incompetence!</td>\n",
       "      <td>angry</td>\n",
       "    </tr>\n",
       "    <tr>\n",
       "      <th>1</th>\n",
       "      <td>i feel like i'm on the verge of a mental break...</td>\n",
       "      <td>fearful</td>\n",
       "    </tr>\n",
       "    <tr>\n",
       "      <th>2</th>\n",
       "      <td>i am grateful for the happy moments i share wi...</td>\n",
       "      <td>happy</td>\n",
       "    </tr>\n",
       "    <tr>\n",
       "      <th>3</th>\n",
       "      <td>i'm worried about not being able to make ends ...</td>\n",
       "      <td>anxious</td>\n",
       "    </tr>\n",
       "    <tr>\n",
       "      <th>4</th>\n",
       "      <td>the lack of excitement is putting me in a funk.</td>\n",
       "      <td>bored</td>\n",
       "    </tr>\n",
       "  </tbody>\n",
       "</table>\n",
       "</div>"
      ],
      "text/plain": [
       "                                                text  emotion\n",
       "0               i can't deal with your incompetence!    angry\n",
       "1  i feel like i'm on the verge of a mental break...  fearful\n",
       "2  i am grateful for the happy moments i share wi...    happy\n",
       "3  i'm worried about not being able to make ends ...  anxious\n",
       "4    the lack of excitement is putting me in a funk.    bored"
      ]
     },
     "execution_count": 81,
     "metadata": {},
     "output_type": "execute_result"
    }
   ],
   "source": [
    "df = pd.read_csv('../data/all_emotions.csv', sep='|')\n",
    "df = df.sample(frac=1).reset_index(drop=True)\n",
    "df.head()"
   ]
  },
  {
   "cell_type": "markdown",
   "metadata": {
    "id": "UESa4eN_iNrx"
   },
   "source": [
    "Converting emotions to one-hot encoded numpy array"
   ]
  },
  {
   "cell_type": "code",
   "execution_count": 82,
   "metadata": {
    "colab": {
     "base_uri": "https://localhost:8080/"
    },
    "id": "2qsLEtcShri2",
    "outputId": "e4110a89-b8e3-44f3-de5d-a777fd023abf"
   },
   "outputs": [
    {
     "data": {
      "text/plain": [
       "array([[1, 0, 0, ..., 0, 0, 0],\n",
       "       [0, 0, 0, ..., 0, 0, 0],\n",
       "       [0, 0, 0, ..., 0, 0, 0],\n",
       "       ...,\n",
       "       [0, 0, 0, ..., 0, 0, 0],\n",
       "       [0, 0, 0, ..., 0, 0, 0],\n",
       "       [0, 0, 0, ..., 0, 0, 1]], dtype=uint8)"
      ]
     },
     "execution_count": 82,
     "metadata": {},
     "output_type": "execute_result"
    }
   ],
   "source": [
    "emotions = pd.get_dummies(df['emotion'])\n",
    "emotions = np.array(emotions.values)\n",
    "emotions"
   ]
  },
  {
   "cell_type": "markdown",
   "metadata": {
    "id": "Tvn4DtKUf4Ff"
   },
   "source": [
    "Converting texts into numpy array"
   ]
  },
  {
   "cell_type": "code",
   "execution_count": 83,
   "metadata": {
    "colab": {
     "base_uri": "https://localhost:8080/"
    },
    "id": "aE54iog4MIWl",
    "outputId": "7394c865-1c2a-4d42-ed78-900866fba7f9"
   },
   "outputs": [
    {
     "data": {
      "text/plain": [
       "array([\"i can't deal with your incompetence!\",\n",
       "       \"i feel like i'm on the verge of a mental breakdown.\",\n",
       "       'i am grateful for the happy moments i share with my significant other that bring me warmth and joy.',\n",
       "       ...,\n",
       "       \"the thought of being trapped in a hurricane is making me feel like i'm in a world of natural disasters.\",\n",
       "       'the closet door is creaky.', 'the pain seems endless.'],\n",
       "      dtype=object)"
      ]
     },
     "execution_count": 83,
     "metadata": {},
     "output_type": "execute_result"
    }
   ],
   "source": [
    "texts = np.array(df['text'].values)\n",
    "texts"
   ]
  },
  {
   "cell_type": "markdown",
   "metadata": {
    "id": "bdS3PoMVgXHG"
   },
   "source": [
    "### 1.2 Text vectorization"
   ]
  },
  {
   "cell_type": "markdown",
   "metadata": {
    "id": "vHMTIBYWgDcO"
   },
   "source": [
    "Defining some constants that will be used for tikenizing the texts"
   ]
  },
  {
   "cell_type": "code",
   "execution_count": 84,
   "metadata": {
    "id": "X-oxK6bz49PW"
   },
   "outputs": [],
   "source": [
    "MAX_WORDS = 3000\n",
    "MAX_TEXT_LEN = 30\n",
    "FILTERS='–\"—#$%&amp;()*+,-./:;<=>?@[\\\\]^_`{|}~\\t\\n\\r«»'"
   ]
  },
  {
   "cell_type": "markdown",
   "metadata": {
    "id": "nUo8bAiWhGGl"
   },
   "source": [
    "Creating a Tokenizer instance from Keras and fitting it on our corpus"
   ]
  },
  {
   "cell_type": "code",
   "execution_count": 85,
   "metadata": {
    "id": "wjLyAYReNTgH"
   },
   "outputs": [],
   "source": [
    "tokenizer = Tokenizer(num_words=MAX_WORDS, filters=FILTERS, lower=True, split=' ', char_level=False)\n",
    "tokenizer.fit_on_texts(texts)"
   ]
  },
  {
   "cell_type": "markdown",
   "metadata": {
    "id": "JtO_c8n0hswG"
   },
   "source": [
    "Vectorizing text data"
   ]
  },
  {
   "cell_type": "code",
   "execution_count": 86,
   "metadata": {
    "colab": {
     "base_uri": "https://localhost:8080/"
    },
    "id": "akHTugk3NdQ4",
    "outputId": "faa823a0-be23-4678-d67e-f699d5cb7e10"
   },
   "outputs": [
    {
     "name": "stdout",
     "output_type": "stream",
     "text": [
      "[[   0    0    0 ...   20   51  618]\n",
      " [   0    0    0 ...   18  194 2304]\n",
      " [   0    0    0 ...   16    5  124]\n",
      " ...\n",
      " [   0    0    0 ...   18  248 2018]\n",
      " [   0    0    0 ...   14  128 2655]\n",
      " [   0    0    0 ...   78   11  358]]\n"
     ]
    }
   ],
   "source": [
    "vectorized_texts = tokenizer.texts_to_sequences(texts)\n",
    "vectorized_texts = pad_sequences(vectorized_texts, maxlen=MAX_TEXT_LEN)\n",
    "print(vectorized_texts)"
   ]
  },
  {
   "cell_type": "markdown",
   "metadata": {
    "id": "qMwJb_QPiFQE"
   },
   "source": [
    "### 1.3 Preparing training and testing sets"
   ]
  },
  {
   "cell_type": "markdown",
   "metadata": {
    "id": "j_NsCrztizvj"
   },
   "source": [
    "Splitting the dataset into training (80%) and testing (20%) sets"
   ]
  },
  {
   "cell_type": "code",
   "execution_count": 87,
   "metadata": {
    "id": "fLMvXnVajkNl"
   },
   "outputs": [],
   "source": [
    "x_train, x_test, y_train, y_test = train_test_split(vectorized_texts, emotions, test_size=0.3)"
   ]
  },
  {
   "cell_type": "code",
   "execution_count": 88,
   "metadata": {
    "colab": {
     "base_uri": "https://localhost:8080/"
    },
    "id": "lWydqmfOkIVK",
    "outputId": "24f15e04-2060-438f-e1e2-07969ba12b19"
   },
   "outputs": [
    {
     "name": "stdout",
     "output_type": "stream",
     "text": [
      "(84530, 30) (36228, 30)\n",
      "(84530, 14) (36228, 14)\n"
     ]
    }
   ],
   "source": [
    "print(x_train.shape, x_test.shape)\n",
    "print(y_train.shape, y_test.shape)"
   ]
  },
  {
   "cell_type": "markdown",
   "metadata": {
    "id": "KeP-7O6zkbEi"
   },
   "source": [
    "## 2. Creating and training the model"
   ]
  },
  {
   "cell_type": "markdown",
   "metadata": {
    "id": "qQqTAiM5obCG"
   },
   "source": [
    "### 2.1 Building and training the model"
   ]
  },
  {
   "cell_type": "markdown",
   "metadata": {
    "id": "oE5PDEvJn1dO"
   },
   "source": [
    "Defining the architecture of the model"
   ]
  },
  {
   "cell_type": "code",
   "execution_count": 89,
   "metadata": {
    "colab": {
     "base_uri": "https://localhost:8080/"
    },
    "id": "vo62jcSlPfat",
    "outputId": "4eef56c0-465d-4c87-cde0-fc316f47616c"
   },
   "outputs": [],
   "source": [
    "# model = Sequential()\n",
    "# model.add(Embedding(MAX_WORDS, 128, input_length = MAX_TEXT_LEN))\n",
    "#\n",
    "# model.add(Bidirectional(LSTM(64, return_sequences=True)))\n",
    "# model.add(Dropout(0.5))\n",
    "# model.add(BatchNormalization())\n",
    "#\n",
    "# model.add(Bidirectional(LSTM(32, return_sequences=True)))\n",
    "# model.add(Dropout(0.5))\n",
    "# model.add(BatchNormalization())\n",
    "#\n",
    "# model.add(LSTM(16))\n",
    "# model.add(Dropout(0.5))\n",
    "# model.add(BatchNormalization())\n",
    "#\n",
    "# model.add(Dense(14, activation='softmax'))\n",
    "# model.summary()"
   ]
  },
  {
   "cell_type": "code",
   "execution_count": 90,
   "metadata": {
    "pycharm": {
     "name": "#%%\n"
    }
   },
   "outputs": [],
   "source": [
    "def attention(input_tensor):\n",
    "    # input_tensor.shape = (batch_size, time_steps, input_dim)\n",
    "    time_steps = input_tensor.shape[1]\n",
    "    input_dim = input_tensor.shape[2]\n",
    "\n",
    "    # Compute attention scores\n",
    "    a = Permute((2, 1))(input_tensor)\n",
    "    a = Dense(time_steps, activation='sigmoid')(a)\n",
    "    a = Dense(time_steps, activation='softmax')(a)\n",
    "\n",
    "    # Apply attention weights\n",
    "    a = Permute((2, 1))(a)\n",
    "    a = Multiply()([input_tensor, a])\n",
    "    a = Lambda(lambda x: K.sum(x, axis=1))(a)\n",
    "    return a"
   ]
  },
  {
   "cell_type": "code",
   "execution_count": 95,
   "metadata": {
    "pycharm": {
     "name": "#%%\n"
    }
   },
   "outputs": [],
   "source": [
    "input_layer = Input(shape=(MAX_TEXT_LEN,))\n",
    "embedding_layer = Embedding(MAX_WORDS, 32, input_length=MAX_TEXT_LEN)(input_layer)\n",
    "\n",
    "lstm_layer1 = Bidirectional(LSTM(16, return_sequences=True))(embedding_layer)\n",
    "dropout_layer1 = Dropout(0.5)(lstm_layer1)\n",
    "batchnorm_layer1 = BatchNormalization()(dropout_layer1)\n",
    "\n",
    "lstm_layer2 = Bidirectional(LSTM(8, return_sequences=True))(batchnorm_layer1)\n",
    "dropout_layer2 = Dropout(0.5)(lstm_layer2)\n",
    "batchnorm_layer2 = BatchNormalization()(dropout_layer2)\n",
    "\n",
    "lstm_layer3 = Bidirectional(LSTM(16, return_sequences=True))(batchnorm_layer2)\n",
    "dropout_layer3 = Dropout(0.5)(lstm_layer3)\n",
    "batchnorm_layer3 = BatchNormalization()(dropout_layer3)\n",
    "\n",
    "# lstm_layer4 = LSTM(4, return_sequences=True)(batchnorm_layer3)\n",
    "# dropout_layer4 = Dropout(0.5)(lstm_layer4)\n",
    "# batchnorm_layer4 = BatchNormalization()(dropout_layer4)\n",
    "\n",
    "# lstm_layer5 = LSTM(4, return_sequences=True)(batchnorm_layer4)\n",
    "# dropout_layer5 = Dropout(0.5)(lstm_layer5)\n",
    "# batchnorm_layer5 = BatchNormalization()(dropout_layer5)\n",
    "\n",
    "# Add attention mechanism\n",
    "attention_layer = attention(lstm_layer3)\n",
    "\n",
    "output_layer = Dense(14, activation='sigmoid')(attention_layer)\n",
    "\n",
    "model = Model(inputs=input_layer, outputs=output_layer)"
   ]
  },
  {
   "cell_type": "code",
   "execution_count": 96,
   "metadata": {
    "pycharm": {
     "name": "#%%\n"
    }
   },
   "outputs": [
    {
     "name": "stdout",
     "output_type": "stream",
     "text": [
      "Model: \"model_4\"\n",
      "__________________________________________________________________________________________________\n",
      " Layer (type)                   Output Shape         Param #     Connected to                     \n",
      "==================================================================================================\n",
      " input_5 (InputLayer)           [(None, 30)]         0           []                               \n",
      "                                                                                                  \n",
      " embedding_4 (Embedding)        (None, 30, 32)       96000       ['input_5[0][0]']                \n",
      "                                                                                                  \n",
      " bidirectional_12 (Bidirectiona  (None, 30, 32)      6272        ['embedding_4[0][0]']            \n",
      " l)                                                                                               \n",
      "                                                                                                  \n",
      " dropout_12 (Dropout)           (None, 30, 32)       0           ['bidirectional_12[0][0]']       \n",
      "                                                                                                  \n",
      " batch_normalization_12 (BatchN  (None, 30, 32)      128         ['dropout_12[0][0]']             \n",
      " ormalization)                                                                                    \n",
      "                                                                                                  \n",
      " bidirectional_13 (Bidirectiona  (None, 30, 16)      2624        ['batch_normalization_12[0][0]'] \n",
      " l)                                                                                               \n",
      "                                                                                                  \n",
      " dropout_13 (Dropout)           (None, 30, 16)       0           ['bidirectional_13[0][0]']       \n",
      "                                                                                                  \n",
      " batch_normalization_13 (BatchN  (None, 30, 16)      64          ['dropout_13[0][0]']             \n",
      " ormalization)                                                                                    \n",
      "                                                                                                  \n",
      " bidirectional_14 (Bidirectiona  (None, 30, 32)      4224        ['batch_normalization_13[0][0]'] \n",
      " l)                                                                                               \n",
      "                                                                                                  \n",
      " permute_8 (Permute)            (None, 32, 30)       0           ['bidirectional_14[0][0]']       \n",
      "                                                                                                  \n",
      " dense_12 (Dense)               (None, 32, 30)       930         ['permute_8[0][0]']              \n",
      "                                                                                                  \n",
      " dense_13 (Dense)               (None, 32, 30)       930         ['dense_12[0][0]']               \n",
      "                                                                                                  \n",
      " permute_9 (Permute)            (None, 30, 32)       0           ['dense_13[0][0]']               \n",
      "                                                                                                  \n",
      " multiply_4 (Multiply)          (None, 30, 32)       0           ['bidirectional_14[0][0]',       \n",
      "                                                                  'permute_9[0][0]']              \n",
      "                                                                                                  \n",
      " lambda_4 (Lambda)              (None, 32)           0           ['multiply_4[0][0]']             \n",
      "                                                                                                  \n",
      " dense_14 (Dense)               (None, 14)           462         ['lambda_4[0][0]']               \n",
      "                                                                                                  \n",
      "==================================================================================================\n",
      "Total params: 111,634\n",
      "Trainable params: 111,538\n",
      "Non-trainable params: 96\n",
      "__________________________________________________________________________________________________\n"
     ]
    }
   ],
   "source": [
    "model.summary()"
   ]
  },
  {
   "cell_type": "markdown",
   "metadata": {
    "id": "zpBI0L3foNVe"
   },
   "source": [
    "Compiling the model"
   ]
  },
  {
   "cell_type": "code",
   "execution_count": 97,
   "metadata": {
    "id": "NfmO-BsrQnJ0"
   },
   "outputs": [],
   "source": [
    "model.compile(loss=['categorical_crossentropy'], metrics=['accuracy'], optimizer=Adam(0.0001))"
   ]
  },
  {
   "cell_type": "markdown",
   "metadata": {
    "id": "TKUbcTQTosA1"
   },
   "source": [
    "Training the model"
   ]
  },
  {
   "cell_type": "code",
   "execution_count": 98,
   "metadata": {
    "colab": {
     "base_uri": "https://localhost:8080/"
    },
    "id": "PtZ_jW0aQtDh",
    "outputId": "cdb920b9-ee88-4904-8833-ca703ada92b8"
   },
   "outputs": [
    {
     "name": "stdout",
     "output_type": "stream",
     "text": [
      "Epoch 1/30\n",
      "1850/1850 [==============================] - 135s 66ms/step - loss: 1.7185 - accuracy: 0.5214 - val_loss: 0.9278 - val_accuracy: 0.7721\n",
      "Epoch 2/30\n",
      "1850/1850 [==============================] - 124s 67ms/step - loss: 0.7597 - accuracy: 0.8144 - val_loss: 0.5458 - val_accuracy: 0.8535\n",
      "Epoch 3/30\n",
      "1850/1850 [==============================] - 124s 67ms/step - loss: 0.5299 - accuracy: 0.8556 - val_loss: 0.4648 - val_accuracy: 0.8685\n",
      "Epoch 4/30\n",
      "1850/1850 [==============================] - 125s 68ms/step - loss: 0.4395 - accuracy: 0.8762 - val_loss: 0.4147 - val_accuracy: 0.8804\n",
      "Epoch 5/30\n",
      "1850/1850 [==============================] - 127s 69ms/step - loss: 0.3885 - accuracy: 0.8869 - val_loss: 0.5061 - val_accuracy: 0.8542\n",
      "Epoch 6/30\n",
      "1850/1850 [==============================] - 126s 68ms/step - loss: 0.3597 - accuracy: 0.8944 - val_loss: 0.3658 - val_accuracy: 0.8905\n",
      "Epoch 7/30\n",
      "1850/1850 [==============================] - 127s 69ms/step - loss: 0.3349 - accuracy: 0.9014 - val_loss: 0.3935 - val_accuracy: 0.8856\n",
      "Epoch 8/30\n",
      "1850/1850 [==============================] - 126s 68ms/step - loss: 0.3192 - accuracy: 0.9051 - val_loss: 0.3716 - val_accuracy: 0.8888\n",
      "Epoch 9/30\n",
      "1850/1850 [==============================] - 125s 67ms/step - loss: 0.3030 - accuracy: 0.9095 - val_loss: 0.3379 - val_accuracy: 0.8976\n",
      "Epoch 10/30\n",
      "1850/1850 [==============================] - 124s 67ms/step - loss: 0.2866 - accuracy: 0.9124 - val_loss: 0.3653 - val_accuracy: 0.8929\n",
      "Epoch 11/30\n",
      "1850/1850 [==============================] - 124s 67ms/step - loss: 0.2766 - accuracy: 0.9154 - val_loss: 0.3374 - val_accuracy: 0.9000\n",
      "Epoch 12/30\n",
      "1850/1850 [==============================] - 125s 67ms/step - loss: 0.2673 - accuracy: 0.9182 - val_loss: 0.3480 - val_accuracy: 0.8995\n",
      "Epoch 13/30\n",
      "1850/1850 [==============================] - 124s 67ms/step - loss: 0.2600 - accuracy: 0.9207 - val_loss: 0.3590 - val_accuracy: 0.8928\n",
      "Epoch 14/30\n",
      "1850/1850 [==============================] - 125s 67ms/step - loss: 0.2502 - accuracy: 0.9220 - val_loss: 0.3563 - val_accuracy: 0.8951\n",
      "Epoch 15/30\n",
      "1850/1850 [==============================] - 124s 67ms/step - loss: 0.2449 - accuracy: 0.9244 - val_loss: 0.3283 - val_accuracy: 0.9043\n",
      "Epoch 16/30\n",
      "1850/1850 [==============================] - 124s 67ms/step - loss: 0.2363 - accuracy: 0.9260 - val_loss: 0.3369 - val_accuracy: 0.9000\n",
      "Epoch 17/30\n",
      "1850/1850 [==============================] - 124s 67ms/step - loss: 0.2289 - accuracy: 0.9289 - val_loss: 0.3344 - val_accuracy: 0.8990\n",
      "Epoch 18/30\n",
      "1850/1850 [==============================] - 124s 67ms/step - loss: 0.2250 - accuracy: 0.9296 - val_loss: 0.3312 - val_accuracy: 0.9024\n",
      "Epoch 19/30\n",
      "1850/1850 [==============================] - 128s 69ms/step - loss: 0.2217 - accuracy: 0.9303 - val_loss: 0.3135 - val_accuracy: 0.9081\n",
      "Epoch 20/30\n",
      " 955/1850 [==============>...............] - ETA: 55s - loss: 0.2064 - accuracy: 0.9353"
     ]
    }
   ],
   "source": [
    "history = model.fit(x_train, y_train, batch_size=32, epochs=30, validation_split=0.3)"
   ]
  },
  {
   "cell_type": "markdown",
   "metadata": {
    "id": "Zanh-yGipLll"
   },
   "source": [
    "### 2.2 Visualizing model training history"
   ]
  },
  {
   "cell_type": "markdown",
   "metadata": {
    "id": "P9-PN9ySpujF"
   },
   "source": [
    "Summarizing history for loss"
   ]
  },
  {
   "cell_type": "code",
   "execution_count": 103,
   "metadata": {
    "colab": {
     "base_uri": "https://localhost:8080/",
     "height": 472
    },
    "id": "2BGo36UfQxDH",
    "outputId": "ccf4d5d8-496d-477e-a4ce-23f11c75313b"
   },
   "outputs": [
    {
     "data": {
      "image/png": "[encoded data removed]",
      "text/plain": [
       "<Figure size 640x480 with 1 Axes>"
      ]
     },
     "metadata": {},
     "output_type": "display_data"
    }
   ],
   "source": [
    "plt.plot(history.history['loss'])\n",
    "plt.plot(history.history['val_loss'])\n",
    "plt.title('model loss')\n",
    "plt.ylabel('categorical crossentropy')\n",
    "plt.xlabel('epoch')\n",
    "plt.legend(['train', 'validation'], loc='upper left')\n",
    "plt.show()"
   ]
  },
  {
   "cell_type": "markdown",
   "metadata": {
    "id": "1eNzw07Dp3gk"
   },
   "source": [
    "Summarizing history for accuracy"
   ]
  },
  {
   "cell_type": "code",
   "execution_count": 101,
   "metadata": {
    "colab": {
     "base_uri": "https://localhost:8080/",
     "height": 472
    },
    "id": "buSpEJ0TVbPD",
    "outputId": "565aa4fb-26d3-482e-fd30-23d2a6c23619"
   },
   "outputs": [],
   "source": [
    "plt.plot(history.history['accuracy'])\n",
    "plt.plot(history.history['val_accuracy'])\n",
    "plt.title('model accuracy')\n",
    "plt.ylabel('accuracy')\n",
    "plt.xlabel('epoch')\n",
    "plt.legend(['train', 'validation'], loc='upper left')\n",
    "plt.show()"
   ]
  },
  {
   "cell_type": "markdown",
   "metadata": {
    "id": "a7GySngdGxSn"
   },
   "source": [
    "### 2.3 Testing the model"
   ]
  },
  {
   "cell_type": "markdown",
   "metadata": {
    "id": "MkAy1opCSglS"
   },
   "source": [
    "##### Evaluating the model"
   ]
  },
  {
   "cell_type": "code",
   "execution_count": 104,
   "metadata": {
    "colab": {
     "base_uri": "https://localhost:8080/"
    },
    "id": "DMA3ASCEsp3e",
    "outputId": "dc6a4389-9a3a-4e29-9f9f-7d56e9f8c9dc"
   },
   "outputs": [
    {
     "name": "stdout",
     "output_type": "stream",
     "text": [
      "1133/1133 [==============================] - 13s 12ms/step - loss: 0.3297 - accuracy: 0.9037\n",
      "loss: 0.32966530323028564\n",
      "accuracy:0.9036656618118286\n"
     ]
    }
   ],
   "source": [
    "loss, accuracy = model.evaluate(x_test, y_test)\n",
    "print(f'loss: {loss}')\n",
    "print(f'accuracy:{accuracy}')"
   ]
  },
  {
   "cell_type": "markdown",
   "metadata": {
    "id": "25SiLLM5SmmQ"
   },
   "source": [
    "*The accuracy is about 90%*"
   ]
  },
  {
   "cell_type": "markdown",
   "metadata": {
    "id": "rtSM6M6eTUnl"
   },
   "source": [
    "##### Testing on examples"
   ]
  },
  {
   "cell_type": "markdown",
   "metadata": {
    "id": "12dcuuJRTA-O"
   },
   "source": [
    "Helper function to detokenize the text"
   ]
  },
  {
   "cell_type": "code",
   "execution_count": 105,
   "metadata": {
    "id": "G3y312ceG832"
   },
   "outputs": [],
   "source": [
    "reverse_word_map = dict(map(reversed, tokenizer.word_index.items()))\n",
    "\n",
    "def sequence_to_text(list_of_indices):\n",
    "    words = [reverse_word_map.get(letter) for letter in list_of_indices]\n",
    "    return(words)"
   ]
  },
  {
   "cell_type": "markdown",
   "metadata": {
    "id": "otZthGqQTOo3"
   },
   "source": [
    "Printing all the unique emotion entries in the dataframe"
   ]
  },
  {
   "cell_type": "code",
   "execution_count": 106,
   "metadata": {
    "colab": {
     "base_uri": "https://localhost:8080/"
    },
    "id": "2Y5XJEWMTNkK",
    "outputId": "b588f051-ee04-4d8d-8f18-d72796d9a894"
   },
   "outputs": [
    {
     "data": {
      "text/plain": [
       "['angry',\n",
       " 'fearful',\n",
       " 'happy',\n",
       " 'anxious',\n",
       " 'bored',\n",
       " 'neutral',\n",
       " 'proud',\n",
       " 'grateful',\n",
       " 'love',\n",
       " 'excited',\n",
       " 'guilty',\n",
       " 'hopeful',\n",
       " 'sad',\n",
       " 'regretful']"
      ]
     },
     "execution_count": 106,
     "metadata": {},
     "output_type": "execute_result"
    }
   ],
   "source": [
    "emotions_list = list(df['emotion'].unique())\n",
    "emotions_list"
   ]
  },
  {
   "cell_type": "code",
   "execution_count": 107,
   "metadata": {
    "pycharm": {
     "name": "#%%\n"
    }
   },
   "outputs": [],
   "source": [
    "examples = {\n",
    "    'The sun is shining, the birds are singing, and life is full of endless possibilities!': 'happy',\n",
    "    'The once-bustling streets are now silent and empty, as the world grapples with the devastating effects of a global pandemic.': 'sad',\n",
    "    'I am infuriated by the blatant disregard for basic human rights and equality that continues to plague our society.': 'angry',\n",
    "    'The sound of thunder in the distance filled her with fear, as she knew a storm was brewing and she was alone in the house.': 'fearful',\n",
    "    'As she waited for the exam results to be posted online, her heart raced with anxiety and she couldn\\'t stop second-guessing her answers.': 'anxious',\n",
    "    'I can hardly contain my excitement about the upcoming trip to Europe - the thought of exploring new cities and immersing myself in different cultures fills me with anticipation!': 'excited',\n",
    "    'Staring at the clock, watching the minutes tick by, he couldn\\'t help but feel bored out of his mind in the never-ending meeting.': 'bored',\n",
    "    'As she looked around the dinner table surrounded by her loved ones, she felt an overwhelming sense of gratitude for the warmth and comfort of their company.': 'grateful',\n",
    "    'He couldn\\'t shake the feeling of guilt as he realized he had forgotten his best friend\\'s birthday, despite promising to make it special.': 'guilty',\n",
    "    'The way that people from all over the world came together to support each other during the pandemic gives me hope that we can overcome any challenge when we stand united.': 'hopeful',\n",
    "    'Whenever I\\'m with you, my heart skips a beat and I can\\'t help but feel an overwhelming sense of love and happiness.': 'love',\n",
    "    'She felt an immense sense of pride as she watched her daughter receive her diploma, knowing that all her hard work and dedication had paid off in such a meaningful way.': 'proud',\n",
    "    'He looked back on his life with regret, wishing he had taken more risks and pursued his passions instead of always playing it safe.': 'regretful',\n",
    "    'The cat sat lazily on the windowsill, watching the world go by outside.': 'neutral'\n",
    "}"
   ]
  },
  {
   "cell_type": "code",
   "execution_count": 108,
   "metadata": {
    "pycharm": {
     "name": "#%%\n"
    }
   },
   "outputs": [
    {
     "name": "stdout",
     "output_type": "stream",
     "text": [
      "1/1 [==============================] - 2s 2s/step\n",
      "Input Sentence:\n",
      "The sun is shining, the birds are singing, and life is full of endless possibilities!\n",
      "Restored Sentence:\n",
      "['the', 'sun', 'is', 'shining', 'the', 'birds', 're', 'singing', 'nd', 'life', 'is', 'full', 'of', 'endless']\n",
      "Expected output: happy\n",
      "Model output: hopeful\n",
      "1/1 [==============================] - 0s 33ms/step\n",
      "Input Sentence:\n",
      "The once-bustling streets are now silent and empty, as the world grapples with the devastating effects of a global pandemic.\n",
      "Restored Sentence:\n",
      "['the', 'once', 'bustling', 'streets', 're', 'now', 'silent', 'nd', 'e', 'ty', 's', 'the', 'world', 'gr', 'les', 'with', 'the', 'dev', 'st', 'ting', 'of', 'glob', 'l', 'nde', 'ic']\n",
      "Expected output: sad\n",
      "Model output: fearful\n",
      "1/1 [==============================] - 0s 23ms/step\n",
      "Input Sentence:\n",
      "I am infuriated by the blatant disregard for basic human rights and equality that continues to plague our society.\n",
      "Restored Sentence:\n",
      "['i', 'infuri', 'ted', 'by', 'the', 'bl', 't', 'nt', 'disreg', 'rd', 'for', 'b', 'sic', 'hu', 'n', 'rights', 'nd', 'equ', 'lity', 'th', 't', 'to', 'l', 'gue', 'our', 'society']\n",
      "Expected output: angry\n",
      "Model output: angry\n",
      "1/1 [==============================] - 0s 28ms/step\n",
      "Input Sentence:\n",
      "The sound of thunder in the distance filled her with fear, as she knew a storm was brewing and she was alone in the house.\n",
      "Restored Sentence:\n",
      "['the', 'sound', 'of', 'thunder', 'in', 'the', 'dist', 'nce', 'filled', 'her', 'with', 'fe', 'r', 's', 'she', 'knew', 'stor', 'w', 's', 'nd', 'she', 'w', 's', 'lone', 'in', 'the', 'house']\n",
      "Expected output: fearful\n",
      "Model output: fearful\n",
      "1/1 [==============================] - 0s 17ms/step\n",
      "Input Sentence:\n",
      "As she waited for the exam results to be posted online, her heart raced with anxiety and she couldn't stop second-guessing her answers.\n",
      "Restored Sentence:\n",
      "['s', 'she', 'w', 'ited', 'for', 'the', 'ex', 'results', 'to', 'be', 'online', 'her', 'he', 'rt', 'r', 'ced', 'with', 'nxiety', 'nd', 'she', \"couldn't\", 'sto', 'second', 'guessing', 'her', 'nswers']\n",
      "Expected output: anxious\n",
      "Model output: sad\n",
      "1/1 [==============================] - 0s 21ms/step\n",
      "Input Sentence:\n",
      "I can hardly contain my excitement about the upcoming trip to Europe - the thought of exploring new cities and immersing myself in different cultures fills me with anticipation!\n",
      "Restored Sentence:\n",
      "['i', 'c', 'n', 'h', 'rdly', 'cont', 'in', 'y', 'excite', 'ent', 'bout', 'the', 'u', 'co', 'ing', 'tri', 'to', 'euro', 'e', 'the', 'thought', 'of', 'ex', 'loring', 'new', 'nd', 'i', 'yself', 'in', 'different', 'cultures', 'fills', 'e', 'with', 'ntici', 'tion!']\n",
      "Expected output: excited\n",
      "Model output: excited\n",
      "1/1 [==============================] - 0s 22ms/step\n",
      "Input Sentence:\n",
      "Staring at the clock, watching the minutes tick by, he couldn't help but feel bored out of his mind in the never-ending meeting.\n",
      "Restored Sentence:\n",
      "['st', 'ring', 't', 'the', 'clock', 'w', 'tching', 'the', 'inutes', 'by', 'he', \"couldn't\", 'hel', 'but', 'feel', 'bored', 'out', 'of', 'his', 'ind', 'in', 'the', 'never', 'ending', 'eeting']\n",
      "Expected output: bored\n",
      "Model output: bored\n",
      "1/1 [==============================] - 0s 23ms/step\n",
      "Input Sentence:\n",
      "As she looked around the dinner table surrounded by her loved ones, she felt an overwhelming sense of gratitude for the warmth and comfort of their company.\n",
      "Restored Sentence:\n",
      "['s', 'she', 'looked', 'round', 'the', 'dinner', 't', 'ble', 'surrounded', 'by', 'her', 'loved', 'ones', 'she', 'felt', 'n', 'overwhel', 'ing', 'sense', 'of', 'gr', 'titude', 'for', 'the', 'w', 'r', 'th', 'nd', 'co', 'fort', 'of', 'their', 'co', 'ny']\n",
      "Expected output: grateful\n",
      "Model output: grateful\n",
      "1/1 [==============================] - 0s 32ms/step\n",
      "Input Sentence:\n",
      "He couldn't shake the feeling of guilt as he realized he had forgotten his best friend's birthday, despite promising to make it special.\n",
      "Restored Sentence:\n",
      "['he', \"couldn't\", 'sh', 'ke', 'the', 'feeling', 'of', 'guilt', 's', 'he', 're', 'lized', 'he', 'h', 'd', 'forgotten', 'his', 'best', \"friend's\", 'birthd', 'y', 'des', 'ite', 'ro', 'ising', 'to', 'ke', 'it', 's', 'eci', 'l']\n",
      "Expected output: guilty\n",
      "Model output: sad\n",
      "1/1 [==============================] - 0s 31ms/step\n",
      "Input Sentence:\n",
      "The way that people from all over the world came together to support each other during the pandemic gives me hope that we can overcome any challenge when we stand united.\n",
      "Restored Sentence:\n",
      "['the', 'w', 'y', 'th', 't', 'eo', 'le', 'fro', 'll', 'over', 'the', 'world', 'c', 'e', 'together', 'to', 'su', 'ort', 'e', 'ch', 'other', 'during', 'the', 'nde', 'ic', 'gives', 'e', 'ho', 'e', 'th', 't', 'we', 'c', 'n', 'overco', 'e', 'ny', 'ch', 'llenge', 'when', 'we', 'st', 'nd']\n",
      "Expected output: hopeful\n",
      "Model output: hopeful\n",
      "1/1 [==============================] - 0s 31ms/step\n",
      "Input Sentence:\n",
      "Whenever I'm with you, my heart skips a beat and I can't help but feel an overwhelming sense of love and happiness.\n",
      "Restored Sentence:\n",
      "['whenever', \"i'\", 'with', 'you', 'y', 'he', 'rt', 'ski', 's', 'be', 't', 'nd', 'i', 'c', \"n't\", 'hel', 'but', 'feel', 'n', 'overwhel', 'ing', 'sense', 'of', 'love', 'nd', 'h', 'iness']\n",
      "Expected output: love\n",
      "Model output: happy\n",
      "1/1 [==============================] - 0s 25ms/step\n",
      "Input Sentence:\n",
      "She felt an immense sense of pride as she watched her daughter receive her diploma, knowing that all her hard work and dedication had paid off in such a meaningful way.\n",
      "Restored Sentence:\n",
      "['she', 'felt', 'n', 'i', 'ense', 'sense', 'of', 'ride', 's', 'she', 'w', 'tched', 'her', 'd', 'ughter', 'receive', 'her', 'di', 'lo', 'knowing', 'th', 't', 'll', 'her', 'h', 'rd', 'work', 'nd', 'dedic', 'tion', 'h', 'd', 'id', 'off', 'in', 'such', 'e', 'ningful', 'w', 'y']\n",
      "Expected output: proud\n",
      "Model output: proud\n",
      "1/1 [==============================] - 0s 33ms/step\n",
      "Input Sentence:\n",
      "He looked back on his life with regret, wishing he had taken more risks and pursued his passions instead of always playing it safe.\n",
      "Restored Sentence:\n",
      "['he', 'looked', 'b', 'ck', 'on', 'his', 'life', 'with', 'regret', 'wishing', 'he', 'h', 'd', 't', 'ken', 'ore', 'risks', 'nd', 'ursued', 'his', 'ssions', 'inste', 'd', 'of', 'lw', 'ys', 'l', 'ying', 'it', 's', 'fe']\n",
      "Expected output: regretful\n",
      "Model output: regretful\n",
      "1/1 [==============================] - 0s 34ms/step\n",
      "Input Sentence:\n",
      "The cat sat lazily on the windowsill, watching the world go by outside.\n",
      "Restored Sentence:\n",
      "['the', 'c', 't', 's', 't', 'l', 'zily', 'on', 'the', 'windowsill', 'w', 'tching', 'the', 'world', 'go', 'by', 'outside']\n",
      "Expected output: neutral\n",
      "Model output: neutral\n"
     ]
    }
   ],
   "source": [
    "correct = 0\n",
    "\n",
    "for example, emotion in examples.items():\n",
    "  tokens = tokenizer.texts_to_sequences([example])[0]\n",
    "  restored_sentence = sequence_to_text(tokens)\n",
    "  pad_tokens = pad_sequences([tokens], maxlen=MAX_TEXT_LEN)\n",
    "  prediction = sorted(emotions_list)[np.argmax(model.predict(pad_tokens))]\n",
    "\n",
    "  if prediction == emotion:\n",
    "      correct += 1\n",
    "\n",
    "  print('Input Sentence:')\n",
    "  print(example)\n",
    "  print('Restored Sentence:')\n",
    "  print(restored_sentence)\n",
    "  print(f'Expected output: {emotion}')\n",
    "  print(f'Model output: {prediction}')"
   ]
  },
  {
   "cell_type": "code",
   "execution_count": 110,
   "metadata": {
    "pycharm": {
     "name": "#%%\n"
    }
   },
   "outputs": [
    {
     "name": "stdout",
     "output_type": "stream",
     "text": [
      "Predicted correctly 9 / 14\n"
     ]
    }
   ],
   "source": [
    "print(f'Predicted correctly {correct} / 14')"
   ]
  },
  {
   "cell_type": "code",
   "execution_count": 269,
   "metadata": {
    "pycharm": {
     "name": "#%%\n"
    }
   },
   "outputs": [],
   "source": [
    "model.save('../models/model_attention')"
   ]
  },
  {
   "cell_type": "code",
   "execution_count": 44,
   "metadata": {
    "pycharm": {
     "name": "#%%\n"
    }
   },
   "outputs": [],
   "source": [
    "import tensorflow as tf\n",
    "new_model = tf.keras.models.load_model('../models/model_attention')"
   ]
  },
  {
   "cell_type": "code",
   "execution_count": 45,
   "metadata": {
    "pycharm": {
     "name": "#%%\n"
    }
   },
   "outputs": [
    {
     "name": "stdout",
     "output_type": "stream",
     "text": [
      "1133/1133 [==============================] - 121s 104ms/step - loss: 0.3747 - accuracy: 0.8993\n",
      "loss: 0.3747382164001465\n",
      "accuracy:0.8993319869041443\n"
     ]
    }
   ],
   "source": [
    "loss, accuracy = new_model.evaluate(x_test, y_test)\n",
    "print(f'loss: {loss}')\n",
    "print(f'accuracy:{accuracy}')"
   ]
  },
  {
   "cell_type": "code",
   "execution_count": null,
   "metadata": {
    "pycharm": {
     "name": "#%%\n"
    }
   },
   "outputs": [],
   "source": []
  }
 ],
 "metadata": {
  "colab": {
   "provenance": [],
   "toc_visible": true
  },
  "kernelspec": {
   "display_name": "Python 3 (ipykernel)",
   "language": "python",
   "name": "python3"
  },
  "language_info": {
   "codemirror_mode": {
    "name": "ipython",
    "version": 3
   },
   "file_extension": ".py",
   "mimetype": "text/x-python",
   "name": "python",
   "nbconvert_exporter": "python",
   "pygments_lexer": "ipython3",
   "version": "3.10.11"
  }
 },
 "nbformat": 4,
 "nbformat_minor": 1
}
