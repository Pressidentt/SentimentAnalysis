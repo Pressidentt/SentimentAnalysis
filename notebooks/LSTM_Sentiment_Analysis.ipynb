{
 "cells": [
  {
   "cell_type": "markdown",
   "metadata": {
    "id": "CigPBUpFijxy"
   },
   "source": [
    "# LSTM - based sentiment analysis"
   ]
  },
  {
   "cell_type": "markdown",
   "metadata": {
    "id": "KZI8tBg6fjyX"
   },
   "source": [
    "Importing necessary packages"
   ]
  },
  {
   "cell_type": "code",
   "execution_count": 1,
   "metadata": {
    "id": "fZzmhhgLeYai"
   },
   "outputs": [],
   "source": [
    "import matplotlib.pyplot as plt\n",
    "import numpy as np\n",
    "import pandas as pd"
   ]
  },
  {
   "cell_type": "code",
   "execution_count": 2,
   "metadata": {
    "id": "genkXInYGf_y"
   },
   "outputs": [],
   "source": [
    "from keras import backend as K\n",
    "from keras.layers import Input, Embedding, Multiply, Permute, Lambda\n",
    "from keras.layers import LSTM, Dense, Bidirectional, Dropout, BatchNormalization\n",
    "from keras.models import Model, Sequential\n",
    "from keras.optimizers import Adam\n",
    "from keras.preprocessing.text import Tokenizer\n",
    "from tensorflow.keras.preprocessing.sequence import pad_sequences"
   ]
  },
  {
   "cell_type": "code",
   "execution_count": 3,
   "metadata": {
    "id": "tfJ0QZhdfjCH"
   },
   "outputs": [],
   "source": [
    "from sklearn.model_selection import train_test_split"
   ]
  },
  {
   "cell_type": "markdown",
   "metadata": {
    "id": "wkHb_nOtiW_I"
   },
   "source": [
    "## 1. Preparing the data"
   ]
  },
  {
   "cell_type": "markdown",
   "metadata": {
    "id": "ANnkBcrSgwSG"
   },
   "source": [
    "### 1.1 Extracting the data"
   ]
  },
  {
   "cell_type": "markdown",
   "metadata": {
    "id": "4QdBtjCxiAKZ"
   },
   "source": [
    "Loading the dataset from the .csv file"
   ]
  },
  {
   "cell_type": "code",
   "execution_count": 4,
   "metadata": {
    "colab": {
     "base_uri": "https://localhost:8080/",
     "height": 206
    },
    "id": "qoLPesfeec34",
    "outputId": "6afd8b0a-cf33-4b2c-c00e-56b7f2ab7034"
   },
   "outputs": [
    {
     "data": {
      "text/html": [
       "<div>\n",
       "<style scoped>\n",
       "    .dataframe tbody tr th:only-of-type {\n",
       "        vertical-align: middle;\n",
       "    }\n",
       "\n",
       "    .dataframe tbody tr th {\n",
       "        vertical-align: top;\n",
       "    }\n",
       "\n",
       "    .dataframe thead th {\n",
       "        text-align: right;\n",
       "    }\n",
       "</style>\n",
       "<table border=\"1\" class=\"dataframe\">\n",
       "  <thead>\n",
       "    <tr style=\"text-align: right;\">\n",
       "      <th></th>\n",
       "      <th>text</th>\n",
       "      <th>emotion</th>\n",
       "    </tr>\n",
       "  </thead>\n",
       "  <tbody>\n",
       "    <tr>\n",
       "      <th>0</th>\n",
       "      <td>i'm anxious about the possibility of disappoin...</td>\n",
       "      <td>anxious</td>\n",
       "    </tr>\n",
       "    <tr>\n",
       "      <th>1</th>\n",
       "      <td>i'm so sick of being used and taken advantage of.</td>\n",
       "      <td>sad</td>\n",
       "    </tr>\n",
       "    <tr>\n",
       "      <th>2</th>\n",
       "      <td>i'm proud of my ability to maintain a positive...</td>\n",
       "      <td>proud</td>\n",
       "    </tr>\n",
       "    <tr>\n",
       "      <th>3</th>\n",
       "      <td>i am struggling to stay focused and engaged in...</td>\n",
       "      <td>bored</td>\n",
       "    </tr>\n",
       "    <tr>\n",
       "      <th>4</th>\n",
       "      <td>i regret not being there for my sibling when t...</td>\n",
       "      <td>regretful</td>\n",
       "    </tr>\n",
       "  </tbody>\n",
       "</table>\n",
       "</div>"
      ],
      "text/plain": [
       "                                                text    emotion\n",
       "0  i'm anxious about the possibility of disappoin...    anxious\n",
       "1  i'm so sick of being used and taken advantage of.        sad\n",
       "2  i'm proud of my ability to maintain a positive...      proud\n",
       "3  i am struggling to stay focused and engaged in...      bored\n",
       "4  i regret not being there for my sibling when t...  regretful"
      ]
     },
     "execution_count": 4,
     "metadata": {},
     "output_type": "execute_result"
    }
   ],
   "source": [
    "df = pd.read_csv('../data/all_emotions.csv', sep='|')\n",
    "df = df.sample(frac=1).reset_index(drop=True)\n",
    "df.head()"
   ]
  },
  {
   "cell_type": "markdown",
   "metadata": {
    "id": "UESa4eN_iNrx"
   },
   "source": [
    "Converting emotions to one-hot encoded numpy array"
   ]
  },
  {
   "cell_type": "code",
   "execution_count": 5,
   "metadata": {
    "colab": {
     "base_uri": "https://localhost:8080/"
    },
    "id": "2qsLEtcShri2",
    "outputId": "e4110a89-b8e3-44f3-de5d-a777fd023abf"
   },
   "outputs": [
    {
     "data": {
      "text/plain": [
       "array([[0, 1, 0, ..., 0, 0, 0],\n",
       "       [0, 0, 0, ..., 0, 0, 1],\n",
       "       [0, 0, 0, ..., 1, 0, 0],\n",
       "       ...,\n",
       "       [0, 0, 0, ..., 0, 1, 0],\n",
       "       [0, 1, 0, ..., 0, 0, 0],\n",
       "       [1, 0, 0, ..., 0, 0, 0]], dtype=uint8)"
      ]
     },
     "execution_count": 5,
     "metadata": {},
     "output_type": "execute_result"
    }
   ],
   "source": [
    "emotions = pd.get_dummies(df['emotion'])\n",
    "emotions = np.array(emotions.values)\n",
    "emotions"
   ]
  },
  {
   "cell_type": "markdown",
   "metadata": {
    "id": "Tvn4DtKUf4Ff"
   },
   "source": [
    "Converting texts into numpy array"
   ]
  },
  {
   "cell_type": "code",
   "execution_count": 6,
   "metadata": {
    "colab": {
     "base_uri": "https://localhost:8080/"
    },
    "id": "aE54iog4MIWl",
    "outputId": "7394c865-1c2a-4d42-ed78-900866fba7f9"
   },
   "outputs": [
    {
     "data": {
      "text/plain": [
       "array([\"i'm anxious about the possibility of disappointing my friends or family.\",\n",
       "       \"i'm so sick of being used and taken advantage of.\",\n",
       "       \"i'm proud of my ability to maintain a positive attitude in the face of adversity.\",\n",
       "       ..., 'i regret not being more frugal with my money.',\n",
       "       \"i'm afraid that my anxiety is going to destroy my confidence.\",\n",
       "       'you are a total waste of my time.'], dtype=object)"
      ]
     },
     "execution_count": 6,
     "metadata": {},
     "output_type": "execute_result"
    }
   ],
   "source": [
    "texts = np.array(df['text'].values)\n",
    "texts"
   ]
  },
  {
   "cell_type": "markdown",
   "metadata": {
    "id": "bdS3PoMVgXHG"
   },
   "source": [
    "### 1.2 Text vectorization"
   ]
  },
  {
   "cell_type": "markdown",
   "metadata": {
    "id": "vHMTIBYWgDcO"
   },
   "source": [
    "Defining some constants that will be used for tikenizing the texts"
   ]
  },
  {
   "cell_type": "code",
   "execution_count": 7,
   "metadata": {
    "id": "X-oxK6bz49PW"
   },
   "outputs": [],
   "source": [
    "MAX_WORDS = 3000\n",
    "MAX_TEXT_LEN = 30\n",
    "FILTERS='–\"—#$%&amp;()*+,-./:;<=>?@[\\\\]^_`{|}~\\t\\n\\r«»'"
   ]
  },
  {
   "cell_type": "markdown",
   "metadata": {
    "id": "nUo8bAiWhGGl"
   },
   "source": [
    "Creating a Tokenizer instance from Keras and fitting it on our corpus"
   ]
  },
  {
   "cell_type": "code",
   "execution_count": 8,
   "metadata": {
    "id": "wjLyAYReNTgH"
   },
   "outputs": [],
   "source": [
    "tokenizer = Tokenizer(num_words=MAX_WORDS, filters=FILTERS, lower=True, split=' ', char_level=False)\n",
    "tokenizer.fit_on_texts(texts)"
   ]
  },
  {
   "cell_type": "markdown",
   "metadata": {
    "id": "JtO_c8n0hswG"
   },
   "source": [
    "Vectorizing text data"
   ]
  },
  {
   "cell_type": "code",
   "execution_count": 9,
   "metadata": {
    "colab": {
     "base_uri": "https://localhost:8080/"
    },
    "id": "akHTugk3NdQ4",
    "outputId": "faa823a0-be23-4678-d67e-f699d5cb7e10"
   },
   "outputs": [
    {
     "name": "stdout",
     "output_type": "stream",
     "text": [
      "[[  0   0   0 ...  84  41 168]\n",
      " [  0   0   0 ...  69 142   4]\n",
      " [  0   0   0 ...  76   4 706]\n",
      " ...\n",
      " [  0   0   0 ...  20   3 375]\n",
      " [  0   0   0 ...   6   3 941]\n",
      " [  0   0   0 ...   3  68   7]]\n"
     ]
    }
   ],
   "source": [
    "vectorized_texts = tokenizer.texts_to_sequences(texts)\n",
    "vectorized_texts = pad_sequences(vectorized_texts, maxlen=MAX_TEXT_LEN)\n",
    "print(vectorized_texts)"
   ]
  },
  {
   "cell_type": "markdown",
   "metadata": {
    "id": "qMwJb_QPiFQE"
   },
   "source": [
    "### 1.3 Preparing training and testing sets"
   ]
  },
  {
   "cell_type": "markdown",
   "metadata": {
    "id": "j_NsCrztizvj"
   },
   "source": [
    "Splitting the dataset into training (80%) and testing (20%) sets"
   ]
  },
  {
   "cell_type": "code",
   "execution_count": 10,
   "metadata": {
    "id": "fLMvXnVajkNl"
   },
   "outputs": [],
   "source": [
    "x_train, x_test, y_train, y_test = train_test_split(vectorized_texts, emotions, test_size=0.3)"
   ]
  },
  {
   "cell_type": "code",
   "execution_count": 11,
   "metadata": {
    "colab": {
     "base_uri": "https://localhost:8080/"
    },
    "id": "lWydqmfOkIVK",
    "outputId": "24f15e04-2060-438f-e1e2-07969ba12b19"
   },
   "outputs": [
    {
     "name": "stdout",
     "output_type": "stream",
     "text": [
      "(84530, 30) (36228, 30)\n",
      "(84530, 14) (36228, 14)\n"
     ]
    }
   ],
   "source": [
    "print(x_train.shape, x_test.shape)\n",
    "print(y_train.shape, y_test.shape)"
   ]
  },
  {
   "cell_type": "markdown",
   "metadata": {
    "id": "KeP-7O6zkbEi"
   },
   "source": [
    "## 2. Creating and training the model"
   ]
  },
  {
   "cell_type": "markdown",
   "metadata": {
    "id": "qQqTAiM5obCG"
   },
   "source": [
    "### 2.1 Building and training the model"
   ]
  },
  {
   "cell_type": "markdown",
   "metadata": {
    "id": "oE5PDEvJn1dO"
   },
   "source": [
    "Defining the architecture of the model"
   ]
  },
  {
   "cell_type": "code",
   "execution_count": 12,
   "metadata": {
    "colab": {
     "base_uri": "https://localhost:8080/"
    },
    "id": "vo62jcSlPfat",
    "outputId": "4eef56c0-465d-4c87-cde0-fc316f47616c"
   },
   "outputs": [],
   "source": [
    "# model = Sequential()\n",
    "# model.add(Embedding(MAX_WORDS, 128, input_length = MAX_TEXT_LEN))\n",
    "#\n",
    "# model.add(Bidirectional(LSTM(64, return_sequences=True)))\n",
    "# model.add(Dropout(0.5))\n",
    "# model.add(BatchNormalization())\n",
    "#\n",
    "# model.add(Bidirectional(LSTM(32, return_sequences=True)))\n",
    "# model.add(Dropout(0.5))\n",
    "# model.add(BatchNormalization())\n",
    "#\n",
    "# model.add(LSTM(16))\n",
    "# model.add(Dropout(0.5))\n",
    "# model.add(BatchNormalization())\n",
    "#\n",
    "# model.add(Dense(14, activation='softmax'))\n",
    "# model.summary()"
   ]
  },
  {
   "cell_type": "code",
   "execution_count": 13,
   "metadata": {
    "pycharm": {
     "name": "#%%\n"
    }
   },
   "outputs": [],
   "source": [
    "def attention(input_tensor):\n",
    "    # input_tensor.shape = (batch_size, time_steps, input_dim)\n",
    "    time_steps = input_tensor.shape[1]\n",
    "    input_dim = input_tensor.shape[2]\n",
    "\n",
    "    # Compute attention scores\n",
    "    a = Permute((2, 1))(input_tensor)\n",
    "    a = Dense(time_steps, activation='sigmoid')(a)\n",
    "    a = Dense(time_steps, activation='softmax')(a)\n",
    "\n",
    "    # Apply attention weights\n",
    "    a = Permute((2, 1))(a)\n",
    "    a = Multiply()([input_tensor, a])\n",
    "    a = Lambda(lambda x: K.sum(x, axis=1))(a)\n",
    "    return a"
   ]
  },
  {
   "cell_type": "code",
   "execution_count": 14,
   "metadata": {
    "pycharm": {
     "name": "#%%\n"
    }
   },
   "outputs": [],
   "source": [
    "input_layer = Input(shape=(MAX_TEXT_LEN,))\n",
    "embedding_layer = Embedding(MAX_WORDS, 128, input_length=MAX_TEXT_LEN)(input_layer)\n",
    "\n",
    "lstm_layer1 = Bidirectional(LSTM(64, return_sequences=True))(embedding_layer)\n",
    "dropout_layer1 = Dropout(0.5)(lstm_layer1)\n",
    "batchnorm_layer1 = BatchNormalization()(dropout_layer1)\n",
    "\n",
    "lstm_layer2 = Bidirectional(LSTM(32, return_sequences=True))(batchnorm_layer1)\n",
    "dropout_layer2 = Dropout(0.5)(lstm_layer2)\n",
    "batchnorm_layer2 = BatchNormalization()(dropout_layer2)\n",
    "\n",
    "lstm_layer3 = Bidirectional(LSTM(16, return_sequences=True))(batchnorm_layer2)\n",
    "dropout_layer3 = Dropout(0.5)(lstm_layer3)\n",
    "batchnorm_layer3 = BatchNormalization()(dropout_layer3)\n",
    "\n",
    "# lstm_layer4 = LSTM(4, return_sequences=True)(batchnorm_layer3)\n",
    "# dropout_layer4 = Dropout(0.5)(lstm_layer4)\n",
    "# batchnorm_layer4 = BatchNormalization()(dropout_layer4)\n",
    "\n",
    "# lstm_layer5 = LSTM(4, return_sequences=True)(batchnorm_layer4)\n",
    "# dropout_layer5 = Dropout(0.5)(lstm_layer5)\n",
    "# batchnorm_layer5 = BatchNormalization()(dropout_layer5)\n",
    "\n",
    "# Add attention mechanism\n",
    "attention_layer = attention(lstm_layer3)\n",
    "\n",
    "output_layer = Dense(14, activation='sigmoid')(attention_layer)\n",
    "\n",
    "model = Model(inputs=input_layer, outputs=output_layer)"
   ]
  },
  {
   "cell_type": "code",
   "execution_count": 15,
   "metadata": {
    "pycharm": {
     "name": "#%%\n"
    }
   },
   "outputs": [
    {
     "name": "stdout",
     "output_type": "stream",
     "text": [
      "Model: \"model\"\n",
      "__________________________________________________________________________________________________\n",
      " Layer (type)                   Output Shape         Param #     Connected to                     \n",
      "==================================================================================================\n",
      " input_1 (InputLayer)           [(None, 30)]         0           []                               \n",
      "                                                                                                  \n",
      " embedding (Embedding)          (None, 30, 128)      384000      ['input_1[0][0]']                \n",
      "                                                                                                  \n",
      " bidirectional (Bidirectional)  (None, 30, 128)      98816       ['embedding[0][0]']              \n",
      "                                                                                                  \n",
      " dropout (Dropout)              (None, 30, 128)      0           ['bidirectional[0][0]']          \n",
      "                                                                                                  \n",
      " batch_normalization (BatchNorm  (None, 30, 128)     512         ['dropout[0][0]']                \n",
      " alization)                                                                                       \n",
      "                                                                                                  \n",
      " bidirectional_1 (Bidirectional  (None, 30, 64)      41216       ['batch_normalization[0][0]']    \n",
      " )                                                                                                \n",
      "                                                                                                  \n",
      " dropout_1 (Dropout)            (None, 30, 64)       0           ['bidirectional_1[0][0]']        \n",
      "                                                                                                  \n",
      " batch_normalization_1 (BatchNo  (None, 30, 64)      256         ['dropout_1[0][0]']              \n",
      " rmalization)                                                                                     \n",
      "                                                                                                  \n",
      " bidirectional_2 (Bidirectional  (None, 30, 32)      10368       ['batch_normalization_1[0][0]']  \n",
      " )                                                                                                \n",
      "                                                                                                  \n",
      " permute (Permute)              (None, 32, 30)       0           ['bidirectional_2[0][0]']        \n",
      "                                                                                                  \n",
      " dense (Dense)                  (None, 32, 30)       930         ['permute[0][0]']                \n",
      "                                                                                                  \n",
      " dense_1 (Dense)                (None, 32, 30)       930         ['dense[0][0]']                  \n",
      "                                                                                                  \n",
      " permute_1 (Permute)            (None, 30, 32)       0           ['dense_1[0][0]']                \n",
      "                                                                                                  \n",
      " multiply (Multiply)            (None, 30, 32)       0           ['bidirectional_2[0][0]',        \n",
      "                                                                  'permute_1[0][0]']              \n",
      "                                                                                                  \n",
      " lambda (Lambda)                (None, 32)           0           ['multiply[0][0]']               \n",
      "                                                                                                  \n",
      " dense_2 (Dense)                (None, 14)           462         ['lambda[0][0]']                 \n",
      "                                                                                                  \n",
      "==================================================================================================\n",
      "Total params: 537,490\n",
      "Trainable params: 537,106\n",
      "Non-trainable params: 384\n",
      "__________________________________________________________________________________________________\n"
     ]
    }
   ],
   "source": [
    "model.summary()"
   ]
  },
  {
   "cell_type": "markdown",
   "metadata": {
    "id": "zpBI0L3foNVe"
   },
   "source": [
    "Compiling the model"
   ]
  },
  {
   "cell_type": "code",
   "execution_count": 16,
   "metadata": {
    "id": "NfmO-BsrQnJ0"
   },
   "outputs": [],
   "source": [
    "model.compile(loss=['categorical_crossentropy'], metrics=['accuracy'], optimizer=Adam(0.0001))"
   ]
  },
  {
   "cell_type": "markdown",
   "metadata": {
    "id": "TKUbcTQTosA1"
   },
   "source": [
    "Training the model"
   ]
  },
  {
   "cell_type": "code",
   "execution_count": 18,
   "metadata": {
    "colab": {
     "base_uri": "https://localhost:8080/"
    },
    "id": "PtZ_jW0aQtDh",
    "outputId": "cdb920b9-ee88-4904-8833-ca703ada92b8"
   },
   "outputs": [
    {
     "name": "stdout",
     "output_type": "stream",
     "text": [
      "Epoch 1/30\n",
      "1850/1850 [==============================] - 184s 99ms/step - loss: 0.3996 - accuracy: 0.8882 - val_loss: 0.3596 - val_accuracy: 0.8922\n",
      "Epoch 2/30\n",
      "1850/1850 [==============================] - 183s 99ms/step - loss: 0.3040 - accuracy: 0.9117 - val_loss: 0.3197 - val_accuracy: 0.9032\n",
      "Epoch 3/30\n",
      "1850/1850 [==============================] - 183s 99ms/step - loss: 0.2605 - accuracy: 0.9224 - val_loss: 0.2909 - val_accuracy: 0.9099\n",
      "Epoch 4/30\n",
      "1850/1850 [==============================] - 183s 99ms/step - loss: 0.2357 - accuracy: 0.9279 - val_loss: 0.2955 - val_accuracy: 0.9100\n",
      "Epoch 5/30\n",
      "1850/1850 [==============================] - 183s 99ms/step - loss: 0.2159 - accuracy: 0.9343 - val_loss: 0.2925 - val_accuracy: 0.9105\n",
      "Epoch 6/30\n",
      "1850/1850 [==============================] - 182s 98ms/step - loss: 0.1970 - accuracy: 0.9383 - val_loss: 0.2819 - val_accuracy: 0.9130\n",
      "Epoch 7/30\n",
      "1850/1850 [==============================] - 180s 97ms/step - loss: 0.1847 - accuracy: 0.9424 - val_loss: 0.2809 - val_accuracy: 0.9131\n",
      "Epoch 8/30\n",
      "1850/1850 [==============================] - 179s 97ms/step - loss: 0.1720 - accuracy: 0.9455 - val_loss: 0.2826 - val_accuracy: 0.9151\n",
      "Epoch 9/30\n",
      "1850/1850 [==============================] - 181s 98ms/step - loss: 0.1651 - accuracy: 0.9473 - val_loss: 0.2925 - val_accuracy: 0.9119\n",
      "Epoch 10/30\n",
      "1850/1850 [==============================] - 180s 97ms/step - loss: 0.1538 - accuracy: 0.9500 - val_loss: 0.2788 - val_accuracy: 0.9154\n",
      "Epoch 11/30\n",
      "1850/1850 [==============================] - 180s 97ms/step - loss: 0.1498 - accuracy: 0.9520 - val_loss: 0.2848 - val_accuracy: 0.9145\n",
      "Epoch 12/30\n",
      "1850/1850 [==============================] - 181s 98ms/step - loss: 0.1425 - accuracy: 0.9533 - val_loss: 0.2722 - val_accuracy: 0.9200\n",
      "Epoch 13/30\n",
      "1850/1850 [==============================] - 181s 98ms/step - loss: 0.1354 - accuracy: 0.9554 - val_loss: 0.2879 - val_accuracy: 0.9160\n",
      "Epoch 14/30\n",
      "1850/1850 [==============================] - 182s 98ms/step - loss: 0.1302 - accuracy: 0.9577 - val_loss: 0.2704 - val_accuracy: 0.9216\n",
      "Epoch 15/30\n",
      "1850/1850 [==============================] - 183s 99ms/step - loss: 0.1248 - accuracy: 0.9597 - val_loss: 0.2817 - val_accuracy: 0.9185\n",
      "Epoch 16/30\n",
      "1850/1850 [==============================] - 183s 99ms/step - loss: 0.1226 - accuracy: 0.9595 - val_loss: 0.2837 - val_accuracy: 0.9198\n",
      "Epoch 17/30\n",
      "1850/1850 [==============================] - 182s 98ms/step - loss: 0.1153 - accuracy: 0.9621 - val_loss: 0.2771 - val_accuracy: 0.9210\n",
      "Epoch 18/30\n",
      "1850/1850 [==============================] - 183s 99ms/step - loss: 0.1106 - accuracy: 0.9627 - val_loss: 0.2832 - val_accuracy: 0.9203\n",
      "Epoch 19/30\n",
      "1850/1850 [==============================] - 184s 100ms/step - loss: 0.1072 - accuracy: 0.9646 - val_loss: 0.2890 - val_accuracy: 0.9192\n",
      "Epoch 20/30\n",
      "1850/1850 [==============================] - 184s 99ms/step - loss: 0.1038 - accuracy: 0.9649 - val_loss: 0.2842 - val_accuracy: 0.9192\n",
      "Epoch 21/30\n",
      "1850/1850 [==============================] - 183s 99ms/step - loss: 0.1030 - accuracy: 0.9655 - val_loss: 0.3059 - val_accuracy: 0.9160\n",
      "Epoch 22/30\n",
      "1850/1850 [==============================] - 183s 99ms/step - loss: 0.0967 - accuracy: 0.9681 - val_loss: 0.2917 - val_accuracy: 0.9191\n",
      "Epoch 23/30\n",
      "1850/1850 [==============================] - 183s 99ms/step - loss: 0.0960 - accuracy: 0.9674 - val_loss: 0.3007 - val_accuracy: 0.9187\n",
      "Epoch 24/30\n",
      "1850/1850 [==============================] - 184s 99ms/step - loss: 0.0928 - accuracy: 0.9687 - val_loss: 0.3165 - val_accuracy: 0.9168\n",
      "Epoch 25/30\n",
      "1850/1850 [==============================] - 184s 99ms/step - loss: 0.0908 - accuracy: 0.9693 - val_loss: 0.3034 - val_accuracy: 0.9178\n",
      "Epoch 26/30\n",
      "1850/1850 [==============================] - 183s 99ms/step - loss: 0.0873 - accuracy: 0.9706 - val_loss: 0.3077 - val_accuracy: 0.9179\n",
      "Epoch 27/30\n",
      "1850/1850 [==============================] - 184s 99ms/step - loss: 0.0865 - accuracy: 0.9708 - val_loss: 0.3192 - val_accuracy: 0.9160\n",
      "Epoch 28/30\n",
      "1850/1850 [==============================] - 185s 100ms/step - loss: 0.0807 - accuracy: 0.9731 - val_loss: 0.3091 - val_accuracy: 0.9215\n",
      "Epoch 29/30\n",
      "1850/1850 [==============================] - 179s 97ms/step - loss: 0.0803 - accuracy: 0.9729 - val_loss: 0.3192 - val_accuracy: 0.9157\n",
      "Epoch 30/30\n",
      "1850/1850 [==============================] - 180s 97ms/step - loss: 0.0775 - accuracy: 0.9736 - val_loss: 0.3103 - val_accuracy: 0.9190\n"
     ]
    }
   ],
   "source": [
    "history = model.fit(x_train, y_train, batch_size=32, epochs=30, validation_split=0.3)"
   ]
  },
  {
   "cell_type": "markdown",
   "metadata": {
    "id": "Zanh-yGipLll"
   },
   "source": [
    "### 2.2 Visualizing model training history"
   ]
  },
  {
   "cell_type": "markdown",
   "metadata": {
    "id": "P9-PN9ySpujF"
   },
   "source": [
    "Summarizing history for loss"
   ]
  },
  {
   "cell_type": "code",
   "execution_count": 19,
   "metadata": {
    "colab": {
     "base_uri": "https://localhost:8080/",
     "height": 472
    },
    "id": "2BGo36UfQxDH",
    "outputId": "ccf4d5d8-496d-477e-a4ce-23f11c75313b"
   },
   "outputs": [
    {
     "data": {
      "text/plain": "<Figure size 640x480 with 1 Axes>",
      "image/png": "[encoded data removed]"
     },
     "metadata": {},
     "output_type": "display_data"
    }
   ],
   "source": [
    "plt.plot(history.history['loss'])\n",
    "plt.plot(history.history['val_loss'])\n",
    "plt.title('model loss')\n",
    "plt.ylabel('categorical crossentropy')\n",
    "plt.xlabel('epoch')\n",
    "plt.legend(['train', 'validation'], loc='upper left')\n",
    "plt.show()"
   ]
  },
  {
   "cell_type": "markdown",
   "metadata": {
    "id": "1eNzw07Dp3gk"
   },
   "source": [
    "Summarizing history for accuracy"
   ]
  },
  {
   "cell_type": "code",
   "execution_count": 20,
   "metadata": {
    "colab": {
     "base_uri": "https://localhost:8080/",
     "height": 472
    },
    "id": "buSpEJ0TVbPD",
    "outputId": "565aa4fb-26d3-482e-fd30-23d2a6c23619"
   },
   "outputs": [
    {
     "data": {
      "text/plain": "<Figure size 640x480 with 1 Axes>",
      "image/png": "[encoded data removed]"
     },
     "metadata": {},
     "output_type": "display_data"
    }
   ],
   "source": [
    "plt.plot(history.history['accuracy'])\n",
    "plt.plot(history.history['val_accuracy'])\n",
    "plt.title('model accuracy')\n",
    "plt.ylabel('accuracy')\n",
    "plt.xlabel('epoch')\n",
    "plt.legend(['train', 'validation'], loc='upper left')\n",
    "plt.show()"
   ]
  },
  {
   "cell_type": "markdown",
   "metadata": {
    "id": "a7GySngdGxSn"
   },
   "source": [
    "### 2.3 Testing the model"
   ]
  },
  {
   "cell_type": "markdown",
   "metadata": {
    "id": "MkAy1opCSglS"
   },
   "source": [
    "##### Evaluating the model"
   ]
  },
  {
   "cell_type": "code",
   "execution_count": 21,
   "metadata": {
    "colab": {
     "base_uri": "https://localhost:8080/"
    },
    "id": "DMA3ASCEsp3e",
    "outputId": "dc6a4389-9a3a-4e29-9f9f-7d56e9f8c9dc"
   },
   "outputs": [
    {
     "name": "stdout",
     "output_type": "stream",
     "text": [
      "1133/1133 [==============================] - 22s 19ms/step - loss: 0.3262 - accuracy: 0.9164\n",
      "loss: 0.32620492577552795\n",
      "accuracy:0.9163630604743958\n"
     ]
    }
   ],
   "source": [
    "loss, accuracy = model.evaluate(x_test, y_test)\n",
    "print(f'loss: {loss}')\n",
    "print(f'accuracy:{accuracy}')"
   ]
  },
  {
   "cell_type": "markdown",
   "metadata": {
    "id": "25SiLLM5SmmQ"
   },
   "source": [
    "*The accuracy is about 90%*"
   ]
  },
  {
   "cell_type": "markdown",
   "metadata": {
    "id": "rtSM6M6eTUnl"
   },
   "source": [
    "##### Testing on examples"
   ]
  },
  {
   "cell_type": "markdown",
   "metadata": {
    "id": "12dcuuJRTA-O"
   },
   "source": [
    "Helper function to detokenize the text"
   ]
  },
  {
   "cell_type": "code",
   "execution_count": 22,
   "metadata": {
    "id": "G3y312ceG832"
   },
   "outputs": [],
   "source": [
    "reverse_word_map = dict(map(reversed, tokenizer.word_index.items()))\n",
    "\n",
    "def sequence_to_text(list_of_indices):\n",
    "    words = [reverse_word_map.get(letter) for letter in list_of_indices]\n",
    "    return(words)"
   ]
  },
  {
   "cell_type": "markdown",
   "metadata": {
    "id": "otZthGqQTOo3"
   },
   "source": [
    "Printing all the unique emotion entries in the dataframe"
   ]
  },
  {
   "cell_type": "code",
   "execution_count": 23,
   "metadata": {
    "colab": {
     "base_uri": "https://localhost:8080/"
    },
    "id": "2Y5XJEWMTNkK",
    "outputId": "b588f051-ee04-4d8d-8f18-d72796d9a894"
   },
   "outputs": [
    {
     "data": {
      "text/plain": "['anxious',\n 'sad',\n 'proud',\n 'bored',\n 'regretful',\n 'happy',\n 'angry',\n 'grateful',\n 'hopeful',\n 'guilty',\n 'fearful',\n 'excited',\n 'love',\n 'neutral']"
     },
     "execution_count": 23,
     "metadata": {},
     "output_type": "execute_result"
    }
   ],
   "source": [
    "emotions_list = list(df['emotion'].unique())\n",
    "emotions_list"
   ]
  },
  {
   "cell_type": "code",
   "execution_count": 24,
   "metadata": {
    "pycharm": {
     "name": "#%%\n"
    }
   },
   "outputs": [],
   "source": [
    "examples = {\n",
    "    'The sun is shining, the birds are singing, and life is full of endless possibilities!': 'happy',\n",
    "    'The once-bustling streets are now silent and empty, as the world grapples with the devastating effects of a global pandemic.': 'sad',\n",
    "    'I am infuriated by the blatant disregard for basic human rights and equality that continues to plague our society.': 'angry',\n",
    "    'The sound of thunder in the distance filled her with fear, as she knew a storm was brewing and she was alone in the house.': 'fearful',\n",
    "    'As she waited for the exam results to be posted online, her heart raced with anxiety and she couldn\\'t stop second-guessing her answers.': 'anxious',\n",
    "    'I can hardly contain my excitement about the upcoming trip to Europe - the thought of exploring new cities and immersing myself in different cultures fills me with anticipation!': 'excited',\n",
    "    'Staring at the clock, watching the minutes tick by, he couldn\\'t help but feel bored out of his mind in the never-ending meeting.': 'bored',\n",
    "    'As she looked around the dinner table surrounded by her loved ones, she felt an overwhelming sense of gratitude for the warmth and comfort of their company.': 'grateful',\n",
    "    'He couldn\\'t shake the feeling of guilt as he realized he had forgotten his best friend\\'s birthday, despite promising to make it special.': 'guilty',\n",
    "    'The way that people from all over the world came together to support each other during the pandemic gives me hope that we can overcome any challenge when we stand united.': 'hopeful',\n",
    "    'Whenever I\\'m with you, my heart skips a beat and I can\\'t help but feel an overwhelming sense of love and happiness.': 'love',\n",
    "    'She felt an immense sense of pride as she watched her daughter receive her diploma, knowing that all her hard work and dedication had paid off in such a meaningful way.': 'proud',\n",
    "    'He looked back on his life with regret, wishing he had taken more risks and pursued his passions instead of always playing it safe.': 'regretful',\n",
    "    'The cat sat lazily on the windowsill, watching the world go by outside.': 'neutral'\n",
    "}"
   ]
  },
  {
   "cell_type": "code",
   "execution_count": 25,
   "metadata": {
    "pycharm": {
     "name": "#%%\n"
    }
   },
   "outputs": [
    {
     "name": "stdout",
     "output_type": "stream",
     "text": [
      "1/1 [==============================] - 3s 3s/step\n",
      "Input Sentence:\n",
      "The sun is shining, the birds are singing, and life is full of endless possibilities!\n",
      "Restored Sentence:\n",
      "['the', 'sun', 'is', 'shining', 'the', 'birds', 're', 'singing', 'nd', 'life', 'is', 'full', 'of', 'endless']\n",
      "Expected output: happy\n",
      "Model output: hopeful\n",
      "1/1 [==============================] - 0s 31ms/step\n",
      "Input Sentence:\n",
      "The once-bustling streets are now silent and empty, as the world grapples with the devastating effects of a global pandemic.\n",
      "Restored Sentence:\n",
      "['the', 'once', 'bustling', 'streets', 're', 'now', 'silent', 'nd', 'e', 'ty', 's', 'the', 'world', 'gr', 'les', 'with', 'the', 'dev', 'st', 'ting', 'of', 'glob', 'l', 'nde', 'ic']\n",
      "Expected output: sad\n",
      "Model output: sad\n",
      "1/1 [==============================] - 0s 31ms/step\n",
      "Input Sentence:\n",
      "I am infuriated by the blatant disregard for basic human rights and equality that continues to plague our society.\n",
      "Restored Sentence:\n",
      "['i', 'infuri', 'ted', 'by', 'the', 'bl', 't', 'nt', 'disreg', 'rd', 'for', 'b', 'sic', 'hu', 'n', 'rights', 'nd', 'equ', 'lity', 'th', 't', 'to', 'l', 'gue', 'our', 'society']\n",
      "Expected output: angry\n",
      "Model output: proud\n",
      "1/1 [==============================] - 0s 31ms/step\n",
      "Input Sentence:\n",
      "The sound of thunder in the distance filled her with fear, as she knew a storm was brewing and she was alone in the house.\n",
      "Restored Sentence:\n",
      "['the', 'sound', 'of', 'thunder', 'in', 'the', 'dist', 'nce', 'filled', 'her', 'with', 'fe', 'r', 's', 'she', 'knew', 'stor', 'w', 's', 'nd', 'she', 'w', 's', 'lone', 'in', 'the', 'house']\n",
      "Expected output: fearful\n",
      "Model output: fearful\n",
      "1/1 [==============================] - 0s 31ms/step\n",
      "Input Sentence:\n",
      "As she waited for the exam results to be posted online, her heart raced with anxiety and she couldn't stop second-guessing her answers.\n",
      "Restored Sentence:\n",
      "['s', 'she', 'w', 'ited', 'for', 'the', 'ex', 'results', 'to', 'be', 'online', 'her', 'he', 'rt', 'r', 'ced', 'with', 'nxiety', 'nd', 'she', \"couldn't\", 'sto', 'second', 'guessing', 'her', 'nswers']\n",
      "Expected output: anxious\n",
      "Model output: sad\n",
      "1/1 [==============================] - 0s 31ms/step\n",
      "Input Sentence:\n",
      "I can hardly contain my excitement about the upcoming trip to Europe - the thought of exploring new cities and immersing myself in different cultures fills me with anticipation!\n",
      "Restored Sentence:\n",
      "['i', 'c', 'n', 'h', 'rdly', 'cont', 'in', 'y', 'excite', 'ent', 'bout', 'the', 'u', 'co', 'ing', 'tri', 'to', 'euro', 'e', 'the', 'thought', 'of', 'ex', 'loring', 'new', 'nd', 'i', 'yself', 'in', 'different', 'cultures', 'fills', 'e', 'with', 'ntici', 'tion!']\n",
      "Expected output: excited\n",
      "Model output: excited\n",
      "1/1 [==============================] - 0s 31ms/step\n",
      "Input Sentence:\n",
      "Staring at the clock, watching the minutes tick by, he couldn't help but feel bored out of his mind in the never-ending meeting.\n",
      "Restored Sentence:\n",
      "['st', 'ring', 't', 'the', 'clock', 'w', 'tching', 'the', 'inutes', 'by', 'he', \"couldn't\", 'hel', 'but', 'feel', 'bored', 'out', 'of', 'his', 'ind', 'in', 'the', 'never', 'ending', 'eeting']\n",
      "Expected output: bored\n",
      "Model output: bored\n",
      "1/1 [==============================] - 0s 31ms/step\n",
      "Input Sentence:\n",
      "As she looked around the dinner table surrounded by her loved ones, she felt an overwhelming sense of gratitude for the warmth and comfort of their company.\n",
      "Restored Sentence:\n",
      "['s', 'she', 'looked', 'round', 'the', 'dinner', 't', 'ble', 'surrounded', 'by', 'her', 'loved', 'ones', 'she', 'felt', 'n', 'overwhel', 'ing', 'sense', 'of', 'gr', 'titude', 'for', 'the', 'w', 'r', 'th', 'nd', 'co', 'fort', 'of', 'their', 'co', 'ny']\n",
      "Expected output: grateful\n",
      "Model output: hopeful\n",
      "1/1 [==============================] - 0s 31ms/step\n",
      "Input Sentence:\n",
      "He couldn't shake the feeling of guilt as he realized he had forgotten his best friend's birthday, despite promising to make it special.\n",
      "Restored Sentence:\n",
      "['he', \"couldn't\", 'sh', 'ke', 'the', 'feeling', 'of', 'guilt', 's', 'he', 're', 'lized', 'he', 'h', 'd', 'forgotten', 'his', 'best', \"friend's\", 'birthd', 'y', 'des', 'ite', 'ro', 'ising', 'to', 'ke', 'it', 's', 'eci', 'l']\n",
      "Expected output: guilty\n",
      "Model output: sad\n",
      "1/1 [==============================] - 0s 31ms/step\n",
      "Input Sentence:\n",
      "The way that people from all over the world came together to support each other during the pandemic gives me hope that we can overcome any challenge when we stand united.\n",
      "Restored Sentence:\n",
      "['the', 'w', 'y', 'th', 't', 'eo', 'le', 'fro', 'll', 'over', 'the', 'world', 'c', 'e', 'together', 'to', 'su', 'ort', 'e', 'ch', 'other', 'during', 'the', 'nde', 'ic', 'gives', 'e', 'ho', 'e', 'th', 't', 'we', 'c', 'n', 'overco', 'e', 'ny', 'ch', 'llenge', 'when', 'we', 'st', 'nd']\n",
      "Expected output: hopeful\n",
      "Model output: hopeful\n",
      "1/1 [==============================] - 0s 31ms/step\n",
      "Input Sentence:\n",
      "Whenever I'm with you, my heart skips a beat and I can't help but feel an overwhelming sense of love and happiness.\n",
      "Restored Sentence:\n",
      "['whenever', \"i'\", 'with', 'you', 'y', 'he', 'rt', 'ski', 's', 'be', 't', 'nd', 'i', 'c', \"n't\", 'hel', 'but', 'feel', 'n', 'overwhel', 'ing', 'sense', 'of', 'love', 'nd', 'h', 'iness']\n",
      "Expected output: love\n",
      "Model output: love\n",
      "1/1 [==============================] - 0s 31ms/step\n",
      "Input Sentence:\n",
      "She felt an immense sense of pride as she watched her daughter receive her diploma, knowing that all her hard work and dedication had paid off in such a meaningful way.\n",
      "Restored Sentence:\n",
      "['she', 'felt', 'n', 'i', 'ense', 'sense', 'of', 'ride', 's', 'she', 'w', 'tched', 'her', 'd', 'ughter', 'receive', 'her', 'di', 'lo', 'knowing', 'th', 't', 'll', 'her', 'h', 'rd', 'work', 'nd', 'dedic', 'tion', 'h', 'd', 'id', 'off', 'in', 'such', 'e', 'ningful', 'w', 'y']\n",
      "Expected output: proud\n",
      "Model output: happy\n",
      "1/1 [==============================] - 0s 47ms/step\n",
      "Input Sentence:\n",
      "He looked back on his life with regret, wishing he had taken more risks and pursued his passions instead of always playing it safe.\n",
      "Restored Sentence:\n",
      "['he', 'looked', 'b', 'ck', 'on', 'his', 'life', 'with', 'regret', 'wishing', 'he', 'h', 'd', 't', 'ken', 'ore', 'risks', 'nd', 'ursued', 'his', 'ssions', 'inste', 'd', 'of', 'lw', 'ys', 'l', 'ying', 'it', 's', 'fe']\n",
      "Expected output: regretful\n",
      "Model output: regretful\n",
      "1/1 [==============================] - 0s 31ms/step\n",
      "Input Sentence:\n",
      "The cat sat lazily on the windowsill, watching the world go by outside.\n",
      "Restored Sentence:\n",
      "['the', 'c', 't', 's', 't', 'l', 'zily', 'on', 'the', 'windowsill', 'w', 'tching', 'the', 'world', 'go', 'by', 'outside']\n",
      "Expected output: neutral\n",
      "Model output: neutral\n"
     ]
    }
   ],
   "source": [
    "correct = 0\n",
    "\n",
    "for example, emotion in examples.items():\n",
    "  tokens = tokenizer.texts_to_sequences([example])[0]\n",
    "  restored_sentence = sequence_to_text(tokens)\n",
    "  pad_tokens = pad_sequences([tokens], maxlen=MAX_TEXT_LEN)\n",
    "  prediction = sorted(emotions_list)[np.argmax(model.predict(pad_tokens))]\n",
    "\n",
    "  if prediction == emotion:\n",
    "      correct += 1\n",
    "\n",
    "  print('Input Sentence:')\n",
    "  print(example)\n",
    "  print('Restored Sentence:')\n",
    "  print(restored_sentence)\n",
    "  print(f'Expected output: {emotion}')\n",
    "  print(f'Model output: {prediction}')"
   ]
  },
  {
   "cell_type": "code",
   "execution_count": 26,
   "metadata": {
    "pycharm": {
     "name": "#%%\n"
    }
   },
   "outputs": [
    {
     "name": "stdout",
     "output_type": "stream",
     "text": [
      "Predicted correctly 8 / 14\n"
     ]
    }
   ],
   "source": [
    "print(f'Predicted correctly {correct} / 14')"
   ]
  },
  {
   "cell_type": "code",
   "execution_count": 269,
   "metadata": {
    "pycharm": {
     "name": "#%%\n"
    }
   },
   "outputs": [],
   "source": [
    "model.save('../models/model_attention')"
   ]
  },
  {
   "cell_type": "code",
   "execution_count": 44,
   "metadata": {
    "pycharm": {
     "name": "#%%\n"
    }
   },
   "outputs": [],
   "source": [
    "import tensorflow as tf\n",
    "new_model = tf.keras.models.load_model('../models/model_attention')"
   ]
  },
  {
   "cell_type": "code",
   "execution_count": 45,
   "metadata": {
    "pycharm": {
     "name": "#%%\n"
    }
   },
   "outputs": [
    {
     "name": "stdout",
     "output_type": "stream",
     "text": [
      "1133/1133 [==============================] - 121s 104ms/step - loss: 0.3747 - accuracy: 0.8993\n",
      "loss: 0.3747382164001465\n",
      "accuracy:0.8993319869041443\n"
     ]
    }
   ],
   "source": [
    "loss, accuracy = new_model.evaluate(x_test, y_test)\n",
    "print(f'loss: {loss}')\n",
    "print(f'accuracy:{accuracy}')"
   ]
  },
  {
   "cell_type": "code",
   "execution_count": null,
   "metadata": {
    "pycharm": {
     "name": "#%%\n"
    }
   },
   "outputs": [],
   "source": []
  }
 ],
 "metadata": {
  "colab": {
   "provenance": [],
   "toc_visible": true
  },
  "kernelspec": {
   "display_name": "Python 3 (ipykernel)",
   "language": "python",
   "name": "python3"
  },
  "language_info": {
   "codemirror_mode": {
    "name": "ipython",
    "version": 3
   },
   "file_extension": ".py",
   "mimetype": "text/x-python",
   "name": "python",
   "nbconvert_exporter": "python",
   "pygments_lexer": "ipython3",
   "version": "3.10.11"
  }
 },
 "nbformat": 4,
 "nbformat_minor": 1
}