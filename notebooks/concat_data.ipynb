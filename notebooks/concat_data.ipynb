{
 "cells": [
  {
   "cell_type": "code",
   "execution_count": 1,
   "metadata": {
    "collapsed": true
   },
   "outputs": [],
   "source": [
    "import numpy as np\n",
    "import pandas as pd"
   ]
  },
  {
   "cell_type": "code",
   "execution_count": 2,
   "outputs": [],
   "source": [
    "emotions = ['angry', 'anxious', 'bored', 'excited', 'fearful', 'grateful', 'guilty', 'happy',\n",
    "            'hopeful', 'love', 'neutral', 'proud', 'regretful', 'sad']"
   ],
   "metadata": {
    "collapsed": false,
    "pycharm": {
     "name": "#%%\n"
    }
   }
  },
  {
   "cell_type": "code",
   "execution_count": 23,
   "outputs": [
    {
     "data": {
      "text/plain": "[                                                   text emotion\n 0                         i can't believe you did that.   angry\n 1     this is the worst thing that's ever happened t...   angry\n 2        i'm so sick of dealing with your incompetence.   angry\n 3                     i'm absolutely furious right now.   angry\n 4                   i can't even look at you right now.   angry\n ...                                                 ...     ...\n 7642        i’m so done with this unproductive meeting.   angry\n 7643              i’m so angry about this incompetence.   angry\n 7644              i’m so upset about this broken trust.   angry\n 7645            i’m so over this lack of collaboration.   angry\n 7646             i’m so mad about this lack of respect.   angry\n \n [7647 rows x 2 columns],\n                                                    text  emotion\n 0                        i’m scared to speak in public.  anxious\n 1         i feel nervous about tomorrow’s presentation.  anxious\n 2     my heart races when i think about the upcoming...  anxious\n 3               the thought of flying makes me anxious.  anxious\n 4      i’m worried i won’t be able to meet my deadline.  anxious\n ...                                                 ...      ...\n 7286  the idea of failing at something is causing me...  anxious\n 7287  i'm afraid of not being able to handle a diffi...  anxious\n 7288  i'm anxious about not being able to handle the...  anxious\n 7289  i'm worried about not being able to handle the...  anxious\n 7290  i'm nervous about being in a situation where i...  anxious\n \n [7291 rows x 2 columns],\n                                                    text emotion\n 0                i'm so bored, i could watch paint dry.   bored\n 1            i can't find anything to do, i'm so bored.   bored\n 2                       yawn, i'm bored out of my mind.   bored\n 3     i've hit the boredom wall, no idea what to do ...   bored\n 4     i need to find something interesting to do, i'...   bored\n ...                                                 ...     ...\n 9225  i'm too bored to even make up my own entertain...   bored\n 9226  i'm feeling like nothing is worth my time anym...   bored\n 9227             the day feels like a blur of monotony.   bored\n 9228  i've been looking at the same poster on my wal...   bored\n 9229  i'm so bored, i'm considering rearranging the ...   bored\n \n [9230 rows x 2 columns],\n                                                    text  emotion\n 0                                                     0  excited\n 1     i can't wait to see my best friend after so long!  excited\n 2     i am so thrilled to finally graduate from coll...  excited\n 3        the concert last night was absolutely amazing!  excited\n 4        i am over the moon about my promotion at work!  excited\n ...                                                 ...      ...\n 8580  this new instrumental piece is amazing, the me...  excited\n 8581  i'm beyond excited for this new journey, the p...  excited\n 8582  this new interior design is amazing, the color...  excited\n 8583  this new fragrance is amazing, the scent and a...  excited\n 8584  i'm overjoyed at this new adventure, the excit...  excited\n \n [8585 rows x 2 columns],\n                                                    text  emotion\n 0     the sound of footsteps behind me makes my hear...  fearful\n 1              i fear that i will never find true love.  fearful\n 2     seeing a spider crawl across my bed fills me w...  fearful\n 3          i feel like i'm drowning in my own thoughts.  fearful\n 4     the thought of speaking in public makes me bre...  fearful\n ...                                                 ...      ...\n 9433   i'm afraid of the supernatural and poltergeists.  fearful\n 9434    i'm scared of the unknown and its vast expanse.  fearful\n 9435  the thought of being in a major earthquake is ...  fearful\n 9436     i'm terrified of being lost in the wilderness.  fearful\n 9437  the idea of being in a gas explosion or chemic...  fearful\n \n [9438 rows x 2 columns],\n                                                    text   emotion\n 0     i'm so grateful for the loving support of my f...  grateful\n 1     i'm grateful for the opportunity to travel and...  grateful\n 2          today i'm grateful for a good night's sleep.  grateful\n 3     i'm grateful for the delicious meal i had at d...  grateful\n 4     i'm grateful for the beautiful scenery on my m...  grateful\n ...                                                 ...       ...\n 8824  i am grateful for the opportunities to explore...  grateful\n 8825  i am grateful for the moments of peace and cal...  grateful\n 8826  i am grateful for the support and encouragemen...  grateful\n 8827  i am grateful for the moments of uncontrollabl...  grateful\n 8828  i am grateful for the opportunities to pay it ...  grateful\n \n [8829 rows x 2 columns],\n                                                    text emotion\n 0            i stole money from my sister's piggy bank.  guilty\n 1                            i cheated on my math test.  guilty\n 2         i lied to my parents about where i was going.  guilty\n 3                               i plagiarized my essay.  guilty\n 4                     i broke my friend's favorite toy.  guilty\n ...                                                 ...     ...\n 8512  i didn't apologize after causing harm to someone.  guilty\n 8513  i cheated on a game or competition in a sports...  guilty\n 8514  i lied about something significant to gain som...  guilty\n 8515  i didn't own up to causing an accident in a pa...  guilty\n 8516  i destroyed a public or private property for fun.  guilty\n \n [8517 rows x 2 columns],\n                                                    text emotion\n 0              i feel so happy when the sun is shining.   happy\n 1     my cat makes me so happy when she curls up on ...   happy\n 2     it's a beautiful day outside, and i'm feeling ...   happy\n 3                         i'm so happy i found my keys.   happy\n 4      my family always makes me happy, no matter what.   happy\n ...                                                 ...     ...\n 8836  i had a great conversation with a family membe...   happy\n 8837  i achieved success in a competition, and it wa...   happy\n 8838  i received a thoughtful invitation, and it mad...   happy\n 8839  i had a great workout, and it was a feeling of...   happy\n 8840  i received a compliment from a stranger, and i...   happy\n \n [8841 rows x 2 columns],\n                                                    text  emotion\n 0     the sun is shining and the birds are singing, ...  hopeful\n 1                     i'm excited to try something new!  hopeful\n 2                today is the start of something great!  hopeful\n 3     i'm looking forward to making meaningful conne...  hopeful\n 4               i'm feeling optimistic about my future.  hopeful\n ...                                                 ...      ...\n 8791  hope is the seed that blooms into a garden of ...  hopeful\n 8792  keep hope alive, and the universe will respond...  hopeful\n 8793  embrace hope, and let it light your way toward...  hopeful\n 8794  hope is the embodiment of infinite possibilities.  hopeful\n 8795  with hope in your heart, the world is yours fo...  hopeful\n \n [8796 rows x 2 columns],\n                                                    text emotion\n 0            my heart beats faster when i think of you.    love\n 1      your smile is the sweetest thing i’ve ever seen.    love\n 2                  i can’t imagine my life without you.    love\n 3                            you make me feel complete.    love\n 4             my love for you grows stronger every day.    love\n ...                                                 ...     ...\n 6735  you are the person i want to grow old with and...    love\n 6736  your love is the foundation on which we will b...    love\n 6737  being loved by you makes every day feel like a...    love\n 6738  you are the love of my life; the person i want...    love\n 6739  your love is the glistening star in the sky th...    love\n \n [6740 rows x 2 columns],\n                                                     text  emotion\n 0                      the sky was a pale shade of blue.  neutral\n 1      the coffee tasted bitter, but the aroma was en...  neutral\n 2                 the cars passed by in a steady stream.  neutral\n 3              the wind rustled the leaves on the trees.  neutral\n 4                     the clock ticked away the seconds.  neutral\n ...                                                  ...      ...\n 10147            the waffles i had are crispy and sweet.  neutral\n 10148            the omelet i made is fluffy and savory.  neutral\n 10149            the toast i had is crispy and buttered.  neutral\n 10150               the bacon i ate is crispy and smoky.  neutral\n 10151           the sausage i had is juicy and seasoned.  neutral\n \n [10152 rows x 2 columns],\n                                                    text emotion\n 0     i am so proud of my children for their academi...   proud\n 1     i won the award for employee of the year and i...   proud\n 2     my friend just launched her own business and s...   proud\n 3     my team won the championship game and i am bur...   proud\n 4     i completed a marathon for charity and i am so...   proud\n ...                                                 ...     ...\n 9169  i am proud of the way i have developed a stron...   proud\n 9170  i am proud of the way i have developed my netw...   proud\n 9171  i am proud of my ability to prioritize my ment...   proud\n 9172  i am proud of the way i have developed my time...   proud\n 9173  i am proud of the positive impact i have on th...   proud\n \n [9174 rows x 2 columns],\n                                                    text    emotion\n 0           i wish i hadn't switched majors in college.  regretful\n 1     if only i had listened to my parents and gone ...  regretful\n 2      i regret not studying harder for my final exams.  regretful\n 3     i wish i hadn't wasted so much time on social ...  regretful\n 4     if only i hadn't drunk so much at the party la...  regretful\n ...                                                 ...        ...\n 7962                      i shouldn't have been so shy.  regretful\n 7963  i wish i had explored different part-time job ...  regretful\n 7964  i shouldn't have let toxic friends influence m...  regretful\n 7965     i regret not traveling more within my country.  regretful\n 7966  i wish i had learned how to play a team sport ...  regretful\n \n [7967 rows x 2 columns],\n                                                    text emotion\n 0                      my heart feels heavy and broken.     sad\n 1              the weight of my sadness is suffocating.     sad\n 2                  i feel lost and alone in this world.     sad\n 3                    tears fall from my eyes like rain.     sad\n 4           i can't shake this feeling of hopelessness.     sad\n ...                                                 ...     ...\n 9546                          life is just too painful.     sad\n 9547                         the pain is just too much.     sad\n 9548        i can't find a way to escape this darkness.     sad\n 9549  i'm so tired of living in this constant state ...     sad\n 9550                    i'm so empty and broken inside.     sad\n \n [9551 rows x 2 columns]]"
     },
     "execution_count": 23,
     "metadata": {},
     "output_type": "execute_result"
    }
   ],
   "source": [
    "dfs = [pd.DataFrame(\n",
    "    {'text': [x[0] for x in pd.read_csv(f'../data/{emotion}.csv', sep='|').values],\n",
    "     'emotion': emotion}\n",
    "                    )\n",
    "       for emotion in emotions]\n",
    "dfs"
   ],
   "metadata": {
    "collapsed": false,
    "pycharm": {
     "name": "#%%\n"
    }
   }
  },
  {
   "cell_type": "code",
   "execution_count": 26,
   "outputs": [
    {
     "data": {
      "text/plain": "                                                   text emotion\n0                         i can't believe you did that.   angry\n1     this is the worst thing that's ever happened t...   angry\n2        i'm so sick of dealing with your incompetence.   angry\n3                     i'm absolutely furious right now.   angry\n4                   i can't even look at you right now.   angry\n...                                                 ...     ...\n9546                          life is just too painful.     sad\n9547                         the pain is just too much.     sad\n9548        i can't find a way to escape this darkness.     sad\n9549  i'm so tired of living in this constant state ...     sad\n9550                    i'm so empty and broken inside.     sad\n\n[120758 rows x 2 columns]",
      "text/html": "<div>\n<style scoped>\n    .dataframe tbody tr th:only-of-type {\n        vertical-align: middle;\n    }\n\n    .dataframe tbody tr th {\n        vertical-align: top;\n    }\n\n    .dataframe thead th {\n        text-align: right;\n    }\n</style>\n<table border=\"1\" class=\"dataframe\">\n  <thead>\n    <tr style=\"text-align: right;\">\n      <th></th>\n      <th>text</th>\n      <th>emotion</th>\n    </tr>\n  </thead>\n  <tbody>\n    <tr>\n      <th>0</th>\n      <td>i can't believe you did that.</td>\n      <td>angry</td>\n    </tr>\n    <tr>\n      <th>1</th>\n      <td>this is the worst thing that's ever happened t...</td>\n      <td>angry</td>\n    </tr>\n    <tr>\n      <th>2</th>\n      <td>i'm so sick of dealing with your incompetence.</td>\n      <td>angry</td>\n    </tr>\n    <tr>\n      <th>3</th>\n      <td>i'm absolutely furious right now.</td>\n      <td>angry</td>\n    </tr>\n    <tr>\n      <th>4</th>\n      <td>i can't even look at you right now.</td>\n      <td>angry</td>\n    </tr>\n    <tr>\n      <th>...</th>\n      <td>...</td>\n      <td>...</td>\n    </tr>\n    <tr>\n      <th>9546</th>\n      <td>life is just too painful.</td>\n      <td>sad</td>\n    </tr>\n    <tr>\n      <th>9547</th>\n      <td>the pain is just too much.</td>\n      <td>sad</td>\n    </tr>\n    <tr>\n      <th>9548</th>\n      <td>i can't find a way to escape this darkness.</td>\n      <td>sad</td>\n    </tr>\n    <tr>\n      <th>9549</th>\n      <td>i'm so tired of living in this constant state ...</td>\n      <td>sad</td>\n    </tr>\n    <tr>\n      <th>9550</th>\n      <td>i'm so empty and broken inside.</td>\n      <td>sad</td>\n    </tr>\n  </tbody>\n</table>\n<p>120758 rows × 2 columns</p>\n</div>"
     },
     "execution_count": 26,
     "metadata": {},
     "output_type": "execute_result"
    }
   ],
   "source": [
    "df = pd.concat(dfs)\n",
    "df"
   ],
   "metadata": {
    "collapsed": false,
    "pycharm": {
     "name": "#%%\n"
    }
   }
  },
  {
   "cell_type": "code",
   "execution_count": 27,
   "outputs": [],
   "source": [
    "df.to_csv(f'../data/all_emotions.csv', sep='|', index=False)"
   ],
   "metadata": {
    "collapsed": false,
    "pycharm": {
     "name": "#%%\n"
    }
   }
  },
  {
   "cell_type": "code",
   "execution_count": null,
   "outputs": [],
   "source": [],
   "metadata": {
    "collapsed": false,
    "pycharm": {
     "name": "#%%\n"
    }
   }
  }
 ],
 "metadata": {
  "kernelspec": {
   "display_name": "Python 3",
   "language": "python",
   "name": "python3"
  },
  "language_info": {
   "codemirror_mode": {
    "name": "ipython",
    "version": 2
   },
   "file_extension": ".py",
   "mimetype": "text/x-python",
   "name": "python",
   "nbconvert_exporter": "python",
   "pygments_lexer": "ipython2",
   "version": "2.7.6"
  }
 },
 "nbformat": 4,
 "nbformat_minor": 0
}